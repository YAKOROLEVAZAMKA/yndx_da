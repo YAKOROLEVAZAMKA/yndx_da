{
 "cells": [
  {
   "cell_type": "markdown",
   "metadata": {},
   "source": [
    "<div class=\"alert alert-success\">\n",
    "<h2> Комментарий ревьюера 3</h2>\n",
    "\n",
    "Привет. Оформление комментариев по работе сохраняется. Только обозначим, что это третья итерация. \n",
    "\n",
    "</div>"
   ]
  },
  {
   "cell_type": "markdown",
   "metadata": {},
   "source": [
    "<div class=\"alert alert-success\">\n",
    "<h2> Комментарий ревьюера 2</h2>\n",
    "\n",
    "Привет еще раз. Спасибо, что доделал работу. Оформление комментариев по работе сохраняется. Только обозначим, что это вторая итерация. \n",
    "\n",
    "</div>"
   ]
  },
  {
   "cell_type": "markdown",
   "metadata": {},
   "source": [
    "<div class=\"alert alert-success\">\n",
    "<h2> Комментарий ревьюера </h2>\n",
    "\n",
    "Привет, Сергей! Спасибо, что прислал задание:) Поздравляю с приближением к концу первого модуля. Меня зовут Слепцов Артем и я буду проверять твой проект) Ты проделал большую работу над проектом, однако его еще можно улучшить. Будет здорово, если ты, надеюсь, не против, если я буду на ты,  будешь отвечать на комментарии и участвовать в диалоге. \n",
    "\n",
    "Мои комментарии обозначены пометкой **Комментарий ревьюера**. Далее в файле ты сможешь найти их в похожих ячейках (если фон комментария <font color=green>зелёный</font> - всё сделано правильно. Рекомендации укажу таким же цветом; <font color=orange>оранжевый</font> - некритичные замечания. Если таких замечаний меньше трех - проект может быть принят без их отработки; <font color=red>красный</font> - нужно переделать). Не удаляй эти комментарии и постарайся учесть их в ходе выполнения данного проекта. \n",
    "</div>"
   ]
  },
  {
   "cell_type": "markdown",
   "metadata": {},
   "source": [
    "## Задачи исследования — Сборный проект\n",
    "\n",
    "### 1. Откройте файл с данными и изучите общую информацию\n",
    "\n",
    "Путь к файлу:\n",
    "\n",
    "    /datasets/games.csv\n",
    "    /datasets/rating.csv — данные о рейтинге ESRB\n",
    "\n",
    "### 2. Подготовьте данные\n",
    "\n",
    "   - Замените названия столбцов\n",
    "\n",
    "   - Посчитайте количество продаж во всех регионах и запишите в отдельный столбец\n",
    "\n",
    "   - Приведите данные к нужным типам:\n",
    "        Опишите, в каких столбцах пришлось заменить тип данных и почему\n",
    "\n",
    "   - Обработайте пропуски при необходимости:\n",
    "        Если вы решили заполнить пропуски определённым образом или не заполнять совсем — объясните, почему;\n",
    "        Опишите возможные причины возникновения пропусков\n",
    "\n",
    "### 3. Проведите исследовательский анализ данных\n",
    "\n",
    "   - Посмотрите, сколько игр выпускалось в разные годы. Важны ли данные за все периоды?\n",
    "   - Посмотрите, как менялись продажи по платформам. Выберите платформы с наибольшими суммарными продажами и постройте распределение по годам. За какой характерный срок появляются новые и исчезают старые платформы?\n",
    "   - Возьмите данные за соответствующий актуальный период. Актуальный период определите самостоятельно в результате исследования предыдущих вопросов. Основной фактор — эти данные помогут построить прогноз на 2017 год.\n",
    "   - Не учитывайте в работе данные за предыдущие годы.\n",
    "   - Какие платформы лидируют по продажам, растут или падают? Выберите несколько потенциально прибыльных платформ.\n",
    "   - Постройте график «ящик с усами» по глобальным продажам игр в разбивке по платформам. Опишите результат.\n",
    "   - Посмотрите, как влияют на продажи внутри одной популярной платформы отзывы пользователей и критиков. Постройте диаграмму рассеяния и посчитайте корреляцию между отзывами и продажами. Сформулируйте выводы.\n",
    "   - Соотнесите выводы с продажами игр на других платформах.\n",
    "   - Посмотрите на общее распределение игр по жанрам. Что можно сказать о самых прибыльных жанрах? Выделяются ли жанры с высокими и низкими продажами?\n",
    "\n",
    "### 4. Составьте портрет пользователя для каждого региона\n",
    "\n",
    "Определите для пользователя каждого региона (NA, EU, JP):\n",
    "\n",
    "   - Самые популярные платформы (топ-5). Опишите различия в долях продаж.\n",
    "   - Самые популярные жанры (топ-5). Поясните разницу.\n",
    "   - Влияет ли рейтинг ESRB на продажи в отдельном регионе?\n",
    "\n",
    "### 5. Проверьте гипотезы\n",
    "\n",
    "   - Средние пользовательские рейтинги платформ Xbox One и PC одинаковые;\n",
    "   - Средние пользовательские рейтинги жанров Action (англ. «действие», экшен-игры) и Sports (англ. «спортивные соревнования») разные.\n",
    "   - Задайте самостоятельно пороговое значение alpha.\n",
    "\n",
    "Поясните:\n",
    "\n",
    "   - как вы формулировали нулевую и альтернативную гипотезы\n",
    "   - какой критерий использовали для проверки гипотез и почему\n",
    "\n",
    "### 6. Напишите общий вывод\n",
    "\n",
    "   - Общие выводы\n",
    "   - Рекомендации\n",
    "\n",
    "#### Описание данных:\n",
    "\n",
    "   - Name — название игры\n",
    "   - Platform — платформа\n",
    "   - Year_of_Release — год выпуска\n",
    "   - Genre — жанр игры\n",
    "   - NA_sales — продажи в Северной Америке (миллионы проданных копий)\n",
    "   - EU_sales — продажи в Европе (миллионы проданных копий)\n",
    "   - JP_sales — продажи в Японии (миллионы проданных копий)\n",
    "   - Other_sales — продажи в других странах (миллионы проданных копий)\n",
    "   - Critic_Score — оценка критиков (максимум 100)\n",
    "   - User_Score — оценка пользователей (максимум 10)\n",
    "   - Rating — рейтинг от организации ESRB (англ. Entertainment Software Rating Board). Эта ассоциация определяет рейтинг компьютерных игр и присваивает им подходящую возрастную категорию.\n"
   ]
  },
  {
   "cell_type": "markdown",
   "metadata": {},
   "source": [
    "<div class=\"alert alert-success\">\n",
    "<h2> Комментарий ревьюера</h2>\n",
    "\n",
    "Вступление в работу очень важно. Так ты поясняешь то, чему она посвящена. Стоит сделать подробнее часть с вводной информацией по проекту. Так все читатели твоей работы поймут то, почему и зачем эта работа вообще делалась. \n",
    "</div>"
   ]
  },
  {
   "cell_type": "code",
   "execution_count": 1,
   "metadata": {},
   "outputs": [],
   "source": [
    "import pandas as pd\n",
    "import numpy as np\n",
    "import matplotlib.pyplot as plt\n",
    "import seaborn as sns\n",
    "\n",
    "from datetime import datetime\n",
    "from scipy import stats as st"
   ]
  },
  {
   "cell_type": "code",
   "execution_count": 2,
   "metadata": {},
   "outputs": [],
   "source": [
    "pd.set_option('display.max_columns', None)\n",
    "pd.options.display.float_format = '{:,.2f}'.format"
   ]
  },
  {
   "cell_type": "markdown",
   "metadata": {},
   "source": [
    "<div class=\"alert alert-success\">\n",
    "<h2> Комментарий ревьюера</h2>\n",
    "\n",
    "Правильно, что весь импорт ты проводишь в первой ячейке работы. Так твой коллега, запускающий работу, будет в курсе используемых в ней библиотек и сможет при необходимости быстро настроить окружение. \n",
    "\n",
    "</div>"
   ]
  },
  {
   "cell_type": "markdown",
   "metadata": {},
   "source": [
    "<div class=\"alert alert-info\">\n",
    "    <h2>PEP8</h2>\n",
    "\n",
    "</div>"
   ]
  },
  {
   "cell_type": "markdown",
   "metadata": {},
   "source": [
    "<div class=\"alert alert-success\">\n",
    "<h2> Комментарий ревьюера 2</h2>\n",
    "\n",
    "Именно он) \n",
    "\n",
    "</div>"
   ]
  },
  {
   "cell_type": "markdown",
   "metadata": {},
   "source": [
    "### Этап 1-2. \n",
    "\n",
    "    - Импорт данных\n",
    "    - Изучение общей информации\n",
    "    \n",
    "    \n",
    "\n",
    "   - Замените названия столбцов\n",
    "\n",
    "   - Посчитайте количество продаж во всех регионах и запишите в отдельный столбец\n",
    "\n",
    "   - Приведите данные к нужным типам: Опишите, в каких столбцах пришлось заменить тип данных и почему\n",
    "\n",
    "   - Обработайте пропуски при необходимости: Если вы решили заполнить пропуски определённым образом или не заполнять совсем — объясните, почему; Опишите возможные причины возникновения пропусков\n",
    "\n"
   ]
  },
  {
   "cell_type": "code",
   "execution_count": 3,
   "metadata": {},
   "outputs": [],
   "source": [
    "games = pd.read_csv('/datasets/games.csv')\n",
    "rating = pd.read_csv('/datasets/rating.csv')"
   ]
  },
  {
   "cell_type": "code",
   "execution_count": 4,
   "metadata": {},
   "outputs": [
    {
     "data": {
      "text/html": [
       "<div>\n",
       "<style scoped>\n",
       "    .dataframe tbody tr th:only-of-type {\n",
       "        vertical-align: middle;\n",
       "    }\n",
       "\n",
       "    .dataframe tbody tr th {\n",
       "        vertical-align: top;\n",
       "    }\n",
       "\n",
       "    .dataframe thead th {\n",
       "        text-align: right;\n",
       "    }\n",
       "</style>\n",
       "<table border=\"1\" class=\"dataframe\">\n",
       "  <thead>\n",
       "    <tr style=\"text-align: right;\">\n",
       "      <th></th>\n",
       "      <th>rating_type</th>\n",
       "      <th>decryption</th>\n",
       "    </tr>\n",
       "  </thead>\n",
       "  <tbody>\n",
       "    <tr>\n",
       "      <td>0</td>\n",
       "      <td>E</td>\n",
       "      <td>Для всех</td>\n",
       "    </tr>\n",
       "    <tr>\n",
       "      <td>1</td>\n",
       "      <td>M</td>\n",
       "      <td>От 17 лет</td>\n",
       "    </tr>\n",
       "    <tr>\n",
       "      <td>2</td>\n",
       "      <td>T</td>\n",
       "      <td>Подросткам 13—19 лет</td>\n",
       "    </tr>\n",
       "    <tr>\n",
       "      <td>3</td>\n",
       "      <td>E10+</td>\n",
       "      <td>Для всех старше 10 лет</td>\n",
       "    </tr>\n",
       "    <tr>\n",
       "      <td>4</td>\n",
       "      <td>K-A</td>\n",
       "      <td>Для всех(до 1998 года)</td>\n",
       "    </tr>\n",
       "    <tr>\n",
       "      <td>5</td>\n",
       "      <td>AO</td>\n",
       "      <td>Только для взрослых</td>\n",
       "    </tr>\n",
       "    <tr>\n",
       "      <td>6</td>\n",
       "      <td>EC</td>\n",
       "      <td>Для детей младшего возраста</td>\n",
       "    </tr>\n",
       "    <tr>\n",
       "      <td>7</td>\n",
       "      <td>RP</td>\n",
       "      <td>Рейтинг ожидается</td>\n",
       "    </tr>\n",
       "  </tbody>\n",
       "</table>\n",
       "</div>"
      ],
      "text/plain": [
       "  rating_type                   decryption\n",
       "0           E                     Для всех\n",
       "1           M                    От 17 лет\n",
       "2           T         Подросткам 13—19 лет\n",
       "3        E10+       Для всех старше 10 лет\n",
       "4         K-A       Для всех(до 1998 года)\n",
       "5          AO          Только для взрослых\n",
       "6          EC  Для детей младшего возраста\n",
       "7          RP            Рейтинг ожидается"
      ]
     },
     "execution_count": 4,
     "metadata": {},
     "output_type": "execute_result"
    }
   ],
   "source": [
    "rating"
   ]
  },
  {
   "cell_type": "code",
   "execution_count": 5,
   "metadata": {},
   "outputs": [
    {
     "name": "stdout",
     "output_type": "stream",
     "text": [
      "<class 'pandas.core.frame.DataFrame'>\n",
      "RangeIndex: 8 entries, 0 to 7\n",
      "Data columns (total 2 columns):\n",
      "rating_type    8 non-null object\n",
      "decryption     8 non-null object\n",
      "dtypes: object(2)\n",
      "memory usage: 256.0+ bytes\n"
     ]
    }
   ],
   "source": [
    "rating.info()"
   ]
  },
  {
   "cell_type": "code",
   "execution_count": 6,
   "metadata": {},
   "outputs": [],
   "source": [
    "rating.rename(columns={'decryption': 'description'}, inplace=True)\n",
    "rating['description'] = rating['description'].apply(lambda x: x.replace('—', '-').replace('х(', 'х ('))"
   ]
  },
  {
   "cell_type": "code",
   "execution_count": 7,
   "metadata": {},
   "outputs": [
    {
     "data": {
      "text/html": [
       "<div>\n",
       "<style scoped>\n",
       "    .dataframe tbody tr th:only-of-type {\n",
       "        vertical-align: middle;\n",
       "    }\n",
       "\n",
       "    .dataframe tbody tr th {\n",
       "        vertical-align: top;\n",
       "    }\n",
       "\n",
       "    .dataframe thead th {\n",
       "        text-align: right;\n",
       "    }\n",
       "</style>\n",
       "<table border=\"1\" class=\"dataframe\">\n",
       "  <thead>\n",
       "    <tr style=\"text-align: right;\">\n",
       "      <th></th>\n",
       "      <th>rating_type</th>\n",
       "      <th>description</th>\n",
       "    </tr>\n",
       "  </thead>\n",
       "  <tbody>\n",
       "    <tr>\n",
       "      <td>0</td>\n",
       "      <td>E</td>\n",
       "      <td>Для всех</td>\n",
       "    </tr>\n",
       "    <tr>\n",
       "      <td>1</td>\n",
       "      <td>M</td>\n",
       "      <td>От 17 лет</td>\n",
       "    </tr>\n",
       "    <tr>\n",
       "      <td>2</td>\n",
       "      <td>T</td>\n",
       "      <td>Подросткам 13-19 лет</td>\n",
       "    </tr>\n",
       "    <tr>\n",
       "      <td>3</td>\n",
       "      <td>E10+</td>\n",
       "      <td>Для всех старше 10 лет</td>\n",
       "    </tr>\n",
       "    <tr>\n",
       "      <td>4</td>\n",
       "      <td>K-A</td>\n",
       "      <td>Для всех (до 1998 года)</td>\n",
       "    </tr>\n",
       "    <tr>\n",
       "      <td>5</td>\n",
       "      <td>AO</td>\n",
       "      <td>Только для взрослых</td>\n",
       "    </tr>\n",
       "    <tr>\n",
       "      <td>6</td>\n",
       "      <td>EC</td>\n",
       "      <td>Для детей младшего возраста</td>\n",
       "    </tr>\n",
       "    <tr>\n",
       "      <td>7</td>\n",
       "      <td>RP</td>\n",
       "      <td>Рейтинг ожидается</td>\n",
       "    </tr>\n",
       "  </tbody>\n",
       "</table>\n",
       "</div>"
      ],
      "text/plain": [
       "  rating_type                  description\n",
       "0           E                     Для всех\n",
       "1           M                    От 17 лет\n",
       "2           T         Подросткам 13-19 лет\n",
       "3        E10+       Для всех старше 10 лет\n",
       "4         K-A      Для всех (до 1998 года)\n",
       "5          AO          Только для взрослых\n",
       "6          EC  Для детей младшего возраста\n",
       "7          RP            Рейтинг ожидается"
      ]
     },
     "execution_count": 7,
     "metadata": {},
     "output_type": "execute_result"
    }
   ],
   "source": [
    "rating"
   ]
  },
  {
   "cell_type": "markdown",
   "metadata": {},
   "source": [
    "<div class=\"alert alert-info\">\n",
    "    <h2> Комментарий учащегося</h2>\n",
    "    \n",
    "Ну тут в принципе всё нормально, чисто из эстетических соображений изменил полиграфическое тире (не помню как оно там правильно называется) на обычное, добавил пробел перед скобкой, а так же переименовал название столбца (было - \"расшифровка\", стало - \"описание\")\n",
    "</div>"
   ]
  },
  {
   "cell_type": "code",
   "execution_count": 8,
   "metadata": {},
   "outputs": [
    {
     "data": {
      "text/html": [
       "<div>\n",
       "<style scoped>\n",
       "    .dataframe tbody tr th:only-of-type {\n",
       "        vertical-align: middle;\n",
       "    }\n",
       "\n",
       "    .dataframe tbody tr th {\n",
       "        vertical-align: top;\n",
       "    }\n",
       "\n",
       "    .dataframe thead th {\n",
       "        text-align: right;\n",
       "    }\n",
       "</style>\n",
       "<table border=\"1\" class=\"dataframe\">\n",
       "  <thead>\n",
       "    <tr style=\"text-align: right;\">\n",
       "      <th></th>\n",
       "      <th>Name</th>\n",
       "      <th>Platform</th>\n",
       "      <th>Year_of_Release</th>\n",
       "      <th>Genre</th>\n",
       "      <th>NA_sales</th>\n",
       "      <th>EU_sales</th>\n",
       "      <th>JP_sales</th>\n",
       "      <th>Other_sales</th>\n",
       "      <th>Critic_Score</th>\n",
       "      <th>User_Score</th>\n",
       "      <th>Rating</th>\n",
       "    </tr>\n",
       "  </thead>\n",
       "  <tbody>\n",
       "    <tr>\n",
       "      <td>0</td>\n",
       "      <td>Wii Sports</td>\n",
       "      <td>Wii</td>\n",
       "      <td>2,006.00</td>\n",
       "      <td>Sports</td>\n",
       "      <td>41.36</td>\n",
       "      <td>28.96</td>\n",
       "      <td>3.77</td>\n",
       "      <td>8.45</td>\n",
       "      <td>76.00</td>\n",
       "      <td>8</td>\n",
       "      <td>E</td>\n",
       "    </tr>\n",
       "    <tr>\n",
       "      <td>1</td>\n",
       "      <td>Super Mario Bros.</td>\n",
       "      <td>NES</td>\n",
       "      <td>1,985.00</td>\n",
       "      <td>Platform</td>\n",
       "      <td>29.08</td>\n",
       "      <td>3.58</td>\n",
       "      <td>6.81</td>\n",
       "      <td>0.77</td>\n",
       "      <td>nan</td>\n",
       "      <td>NaN</td>\n",
       "      <td>NaN</td>\n",
       "    </tr>\n",
       "    <tr>\n",
       "      <td>2</td>\n",
       "      <td>Mario Kart Wii</td>\n",
       "      <td>Wii</td>\n",
       "      <td>2,008.00</td>\n",
       "      <td>Racing</td>\n",
       "      <td>15.68</td>\n",
       "      <td>12.76</td>\n",
       "      <td>3.79</td>\n",
       "      <td>3.29</td>\n",
       "      <td>82.00</td>\n",
       "      <td>8.3</td>\n",
       "      <td>E</td>\n",
       "    </tr>\n",
       "    <tr>\n",
       "      <td>3</td>\n",
       "      <td>Wii Sports Resort</td>\n",
       "      <td>Wii</td>\n",
       "      <td>2,009.00</td>\n",
       "      <td>Sports</td>\n",
       "      <td>15.61</td>\n",
       "      <td>10.93</td>\n",
       "      <td>3.28</td>\n",
       "      <td>2.95</td>\n",
       "      <td>80.00</td>\n",
       "      <td>8</td>\n",
       "      <td>E</td>\n",
       "    </tr>\n",
       "    <tr>\n",
       "      <td>4</td>\n",
       "      <td>Pokemon Red/Pokemon Blue</td>\n",
       "      <td>GB</td>\n",
       "      <td>1,996.00</td>\n",
       "      <td>Role-Playing</td>\n",
       "      <td>11.27</td>\n",
       "      <td>8.89</td>\n",
       "      <td>10.22</td>\n",
       "      <td>1.00</td>\n",
       "      <td>nan</td>\n",
       "      <td>NaN</td>\n",
       "      <td>NaN</td>\n",
       "    </tr>\n",
       "  </tbody>\n",
       "</table>\n",
       "</div>"
      ],
      "text/plain": [
       "                       Name Platform  Year_of_Release         Genre  NA_sales  \\\n",
       "0                Wii Sports      Wii         2,006.00        Sports     41.36   \n",
       "1         Super Mario Bros.      NES         1,985.00      Platform     29.08   \n",
       "2            Mario Kart Wii      Wii         2,008.00        Racing     15.68   \n",
       "3         Wii Sports Resort      Wii         2,009.00        Sports     15.61   \n",
       "4  Pokemon Red/Pokemon Blue       GB         1,996.00  Role-Playing     11.27   \n",
       "\n",
       "   EU_sales  JP_sales  Other_sales  Critic_Score User_Score Rating  \n",
       "0     28.96      3.77         8.45         76.00          8      E  \n",
       "1      3.58      6.81         0.77           nan        NaN    NaN  \n",
       "2     12.76      3.79         3.29         82.00        8.3      E  \n",
       "3     10.93      3.28         2.95         80.00          8      E  \n",
       "4      8.89     10.22         1.00           nan        NaN    NaN  "
      ]
     },
     "execution_count": 8,
     "metadata": {},
     "output_type": "execute_result"
    }
   ],
   "source": [
    "games.head()"
   ]
  },
  {
   "cell_type": "code",
   "execution_count": 9,
   "metadata": {},
   "outputs": [
    {
     "name": "stdout",
     "output_type": "stream",
     "text": [
      "<class 'pandas.core.frame.DataFrame'>\n",
      "RangeIndex: 16715 entries, 0 to 16714\n",
      "Data columns (total 11 columns):\n",
      "Name               16713 non-null object\n",
      "Platform           16715 non-null object\n",
      "Year_of_Release    16446 non-null float64\n",
      "Genre              16713 non-null object\n",
      "NA_sales           16715 non-null float64\n",
      "EU_sales           16715 non-null float64\n",
      "JP_sales           16715 non-null float64\n",
      "Other_sales        16715 non-null float64\n",
      "Critic_Score       8137 non-null float64\n",
      "User_Score         10014 non-null object\n",
      "Rating             9949 non-null object\n",
      "dtypes: float64(6), object(5)\n",
      "memory usage: 1.4+ MB\n"
     ]
    }
   ],
   "source": [
    "games.info()"
   ]
  },
  {
   "cell_type": "code",
   "execution_count": 10,
   "metadata": {},
   "outputs": [
    {
     "data": {
      "text/plain": [
       "Name                  2\n",
       "Platform              0\n",
       "Year_of_Release     269\n",
       "Genre                 2\n",
       "NA_sales              0\n",
       "EU_sales              0\n",
       "JP_sales              0\n",
       "Other_sales           0\n",
       "Critic_Score       8578\n",
       "User_Score         6701\n",
       "Rating             6766\n",
       "dtype: int64"
      ]
     },
     "execution_count": 10,
     "metadata": {},
     "output_type": "execute_result"
    }
   ],
   "source": [
    "games.isna().sum()"
   ]
  },
  {
   "cell_type": "markdown",
   "metadata": {},
   "source": [
    "<div class=\"alert alert-success\">\n",
    "<h2> Комментарий ревьюера </h2>\n",
    "\n",
    "Подумай также о возможных причинах появления пропусков, а также о том, являются ли они случайными или нет. Можно высказать предварительные варианты их обработки. \n",
    "\n",
    "Первый взгляд на таблицу выполнен.\n",
    "\n",
    "</div>"
   ]
  },
  {
   "cell_type": "code",
   "execution_count": 11,
   "metadata": {},
   "outputs": [],
   "source": [
    "games.columns = games.columns.str.lower()\n",
    "\n",
    "def fill_na(df, col, val, tp=None, tbd=None):\n",
    "    \n",
    "    if tbd:\n",
    "        df.loc[df[col] == 'tbd', col] = np.nan\n",
    "        \n",
    "        \n",
    "    df[col] = df[col].fillna(val)\n",
    "    \n",
    "    if tp:\n",
    "        df[col] = df[col].astype(tp)\n",
    "\n",
    "#fill_na(games, 'year_of_release', 3000, int)\n",
    "#fill_na(games, 'critic_score', -1, float)\n",
    "#fill_na(games, 'user_score', -1, float, 1)\n",
    "#fill_na(games, 'rating', 'unknown')\n",
    "\n",
    "\n",
    "games['user_score'] = games['user_score'].apply(lambda x: np.nan if x == 'tbd' else x)\n",
    "games.user_score = games.user_score.astype(float)\n",
    "\n",
    "games = games[games['name'].notna()]\n",
    "\n",
    "games.rename(columns={'year_of_release': 'year'}, inplace=True)"
   ]
  },
  {
   "cell_type": "markdown",
   "metadata": {},
   "source": [
    "<div class=\"alert alert-success\">\n",
    "<h2> Комментарий ревьюера </h2>\n",
    "\n",
    "Верно, по своей сути tbd и является Nan. Отлично, что определяешь неявные пропущенные значения.\n",
    "\n",
    "</div>"
   ]
  },
  {
   "cell_type": "markdown",
   "metadata": {},
   "source": [
    "<div class=\"alert alert-warning\">\n",
    "<h2> Комментарий ревьюера </h2>\n",
    "\n",
    "Пропуски можно оставить. Смотри, это нереальные данные, которыми мы помечаем пропуски. В итоге при анализе данных столбцов мы должны каждый раз отфильтровывать такие значения, т.к. анализировать их не надо. В итоге, в одном из пунктов можно забыть про такие значения и случайно включить маркерные значения в анализ, что вызовет ошибку в результатах работы.\n",
    "\n",
    "</div>"
   ]
  },
  {
   "cell_type": "markdown",
   "metadata": {},
   "source": [
    "<div class=\"alert alert-info\">\n",
    "    <h2> Комментарий учащегося</h2>\n",
    "    \n",
    "Пропуски оставил, только заменил <b>tbd</b> на <b>np.nan</b>\n",
    "</div>"
   ]
  },
  {
   "cell_type": "markdown",
   "metadata": {},
   "source": [
    "<div class=\"alert alert-success\">\n",
    "<h2> Комментарий ревьюера 2</h2>\n",
    "\n",
    "Верное решение. Так ты исключаешь вероятность внести в анализ нереальные данные. \n",
    "\n",
    "</div>"
   ]
  },
  {
   "cell_type": "code",
   "execution_count": 12,
   "metadata": {},
   "outputs": [
    {
     "data": {
      "text/plain": [
       "array(['E', nan, 'M', 'T', 'E10+', 'K-A', 'AO', 'EC', 'RP'], dtype=object)"
      ]
     },
     "execution_count": 12,
     "metadata": {},
     "output_type": "execute_result"
    }
   ],
   "source": [
    "games.rating.unique()"
   ]
  },
  {
   "cell_type": "code",
   "execution_count": 13,
   "metadata": {},
   "outputs": [],
   "source": [
    "games['total_sales'] = games['na_sales'] + games['eu_sales'] + games['jp_sales'] + games['other_sales']"
   ]
  },
  {
   "cell_type": "code",
   "execution_count": 14,
   "metadata": {},
   "outputs": [],
   "source": [
    "games = games.merge(rating, left_on='rating', right_on='rating_type', how='left')"
   ]
  },
  {
   "cell_type": "markdown",
   "metadata": {},
   "source": [
    "<div class=\"alert alert-info\">\n",
    "    <h2> Комментарий учащегося</h2>\n",
    "\n",
    "Тут уже всё хуже. Итак:\n",
    "    \n",
    "- приводим названия столбцов к нижнему регистру\n",
    "- неизвестные даты релизов заменяем неким большим числом, я выбрал - 3000 (т.к. до него еще далеко, в идеале конечно поставить 10e10, но это уже оверкилл)\n",
    "- пропуски в оценках критиков\\игроков заполняем -1 т.к. какая-нибудь сверхплохая игра может иметь оценку 0, а такие оценки нужно отличать от просто отсутствия оценок\n",
    "- так же в оценках пользователей было строковое значение 'tbd' - это аналог аббревиатуры 'to be announced', а раз оценка на данный момент неизвестна - так же заменяем на -1\n",
    "- пропуски в рейтинге заменяем на \"неизвестно\" - \"unknown\"\n",
    "  \n",
    "    \n",
    "Далее значения колонок заполняются переданным аргументом и приводятся к переданному типу (если он передан, иначе всё остается без изменений).\n",
    "\n",
    "    \n",
    "Ну и в самом конце я добавил отдельный столбей с общими продажами + соединил таблицы.\n",
    "</div>"
   ]
  },
  {
   "cell_type": "markdown",
   "metadata": {},
   "source": [
    "<div class=\"alert alert-success\">\n",
    "<h2> Комментарий ревьюера </h2>\n",
    "\n",
    "Да, восстановить пропущенные значения мы не можем. Данных для этого недостаточно. Лучше работать с меньшим количеством данных хорошего качества.\n",
    "    \n",
    "Ошибки в данных устранены. Данные подготовлены к дальнейшему анализу. \n",
    "\n",
    "</div>"
   ]
  },
  {
   "cell_type": "markdown",
   "metadata": {},
   "source": [
    "### Этап 3. "
   ]
  },
  {
   "cell_type": "code",
   "execution_count": 15,
   "metadata": {},
   "outputs": [
    {
     "data": {
      "image/png": "[encoded data removed]",
      "text/plain": [
       "<Figure size 1440x576 with 2 Axes>"
      ]
     },
     "metadata": {
      "needs_background": "light"
     },
     "output_type": "display_data"
    }
   ],
   "source": [
    "fig, axes = plt.subplots(nrows=1, ncols=2, figsize=(20, 8)) # create 1x2 array of subplots\n",
    "\n",
    "\n",
    "bxplt0_0 = games['year'].plot(kind='box', ax=axes[0])\n",
    "bxplt0_0.set(xlabel='')\n",
    "\n",
    "\n",
    "bxplt0_1 = games['year'].plot(kind='hist', bins=40, grid=True, ax=axes[1])\n",
    "bxplt0_1.set(xlabel='')\n",
    "\n",
    "\n",
    "fig.suptitle('Количество выпущенных игр', fontsize=26)\n",
    "plt.show()"
   ]
  },
  {
   "cell_type": "code",
   "execution_count": 16,
   "metadata": {},
   "outputs": [],
   "source": [
    "actual_games = games.query('year >= 2012')"
   ]
  },
  {
   "cell_type": "markdown",
   "metadata": {},
   "source": [
    "<div class=\"alert alert-success\">\n",
    "<h2> Комментарий ревьюера </h2>\n",
    "\n",
    "Актуальный период назван. Так в рассмотрение попадут только последние поколения платформ, а также будем рассматривать только конечный на данный момент интервал развития игровой индустрии. \n",
    "\n",
    "</div>"
   ]
  },
  {
   "cell_type": "markdown",
   "metadata": {},
   "source": [
    "<div class=\"alert alert-info\">\n",
    "    <h2> Комментарий учащегося</h2>\n",
    "\n",
    "За актуальный период возьмём данные начиная с 2012 года:\n",
    "- произошел резкий спад в 2008-2011 гг., количество игр уменьшилось почти в 2 раза\n",
    "- данные на гистограмме начиная с 2012 г. распледелены практически равномерно\n",
    "    \n",
    "</div>"
   ]
  },
  {
   "cell_type": "markdown",
   "metadata": {},
   "source": [
    "<div class=\"alert alert-success\">\n",
    "<h2> Комментарий ревьюера </h2>\n",
    "\n",
    "Как думаешь, какова причина спада в индустрии последних лет?\n",
    "\n",
    "</div>"
   ]
  },
  {
   "cell_type": "markdown",
   "metadata": {},
   "source": [
    "<div class=\"alert alert-info\">\n",
    "    <h2> Комментарий учащегося</h2>\n",
    "\n",
    "Повышение требований аудитории к качеству игр, с появлением разных платформ одну и ту же игру надо адаптировать под разные платформы, кризис 2008 года - факторов очень много, вот лишь самые основные\n",
    "    \n",
    "</div>"
   ]
  },
  {
   "cell_type": "markdown",
   "metadata": {},
   "source": [
    "<div class=\"alert alert-success\">\n",
    "<h2> Комментарий ревьюера 2</h2>\n",
    "\n",
    "Да и еще выход смартфонов и игр на них мог забрать часть рынка на себя. Все правильно, факторов несколько. \n",
    "\n",
    "</div>"
   ]
  },
  {
   "cell_type": "code",
   "execution_count": 17,
   "metadata": {
    "scrolled": false
   },
   "outputs": [
    {
     "data": {
      "text/plain": [
       "Text(-4.450000000000003, 0.5, 'Платформа')"
      ]
     },
     "execution_count": 17,
     "metadata": {},
     "output_type": "execute_result"
    },
    {
     "data": {
      "image/png": "[encoded data removed]",
      "text/plain": [
       "<Figure size 720x720 with 1 Axes>"
      ]
     },
     "metadata": {
      "needs_background": "light"
     },
     "output_type": "display_data"
    }
   ],
   "source": [
    "sns.relplot(data = games\n",
    "            ,y = 'platform'\n",
    "            ,x = 'year'\n",
    "            ,height=10\n",
    "            )\n",
    "\n",
    "plt.title('Распределение платформ по годам', fontsize=30)\n",
    "plt.xlabel('Год', fontsize=20)\n",
    "plt.ylabel('Платформа', fontsize=20)"
   ]
  },
  {
   "cell_type": "markdown",
   "metadata": {},
   "source": [
    "<div class=\"alert alert-success\">\n",
    "<h2> Комментарий ревьюера </h2>\n",
    "\n",
    "Интересная визуализация 👍 Ее бы только несколько больше сделать.\n",
    "\n",
    "</div>"
   ]
  },
  {
   "cell_type": "markdown",
   "metadata": {},
   "source": [
    "<div class=\"alert alert-info\">\n",
    "    <h2> Комментарий учащегося</h2>\n",
    "\n",
    "Увеличил\n",
    "    \n",
    "</div>"
   ]
  },
  {
   "cell_type": "code",
   "execution_count": 18,
   "metadata": {},
   "outputs": [
    {
     "data": {
      "text/html": [
       "<div>\n",
       "<style scoped>\n",
       "    .dataframe tbody tr th:only-of-type {\n",
       "        vertical-align: middle;\n",
       "    }\n",
       "\n",
       "    .dataframe tbody tr th {\n",
       "        vertical-align: top;\n",
       "    }\n",
       "\n",
       "    .dataframe thead th {\n",
       "        text-align: right;\n",
       "    }\n",
       "</style>\n",
       "<table border=\"1\" class=\"dataframe\">\n",
       "  <thead>\n",
       "    <tr style=\"text-align: right;\">\n",
       "      <th></th>\n",
       "      <th>name</th>\n",
       "      <th>platform</th>\n",
       "      <th>year</th>\n",
       "      <th>genre</th>\n",
       "      <th>na_sales</th>\n",
       "      <th>eu_sales</th>\n",
       "      <th>jp_sales</th>\n",
       "      <th>other_sales</th>\n",
       "      <th>critic_score</th>\n",
       "      <th>user_score</th>\n",
       "      <th>rating</th>\n",
       "      <th>total_sales</th>\n",
       "      <th>rating_type</th>\n",
       "      <th>description</th>\n",
       "    </tr>\n",
       "  </thead>\n",
       "  <tbody>\n",
       "    <tr>\n",
       "      <td>0</td>\n",
       "      <td>Wii Sports</td>\n",
       "      <td>Wii</td>\n",
       "      <td>2,006.00</td>\n",
       "      <td>Sports</td>\n",
       "      <td>41.36</td>\n",
       "      <td>28.96</td>\n",
       "      <td>3.77</td>\n",
       "      <td>8.45</td>\n",
       "      <td>76.00</td>\n",
       "      <td>8.00</td>\n",
       "      <td>E</td>\n",
       "      <td>82.54</td>\n",
       "      <td>E</td>\n",
       "      <td>Для всех</td>\n",
       "    </tr>\n",
       "    <tr>\n",
       "      <td>1</td>\n",
       "      <td>Super Mario Bros.</td>\n",
       "      <td>NES</td>\n",
       "      <td>1,985.00</td>\n",
       "      <td>Platform</td>\n",
       "      <td>29.08</td>\n",
       "      <td>3.58</td>\n",
       "      <td>6.81</td>\n",
       "      <td>0.77</td>\n",
       "      <td>nan</td>\n",
       "      <td>nan</td>\n",
       "      <td>NaN</td>\n",
       "      <td>40.24</td>\n",
       "      <td>NaN</td>\n",
       "      <td>NaN</td>\n",
       "    </tr>\n",
       "    <tr>\n",
       "      <td>2</td>\n",
       "      <td>Mario Kart Wii</td>\n",
       "      <td>Wii</td>\n",
       "      <td>2,008.00</td>\n",
       "      <td>Racing</td>\n",
       "      <td>15.68</td>\n",
       "      <td>12.76</td>\n",
       "      <td>3.79</td>\n",
       "      <td>3.29</td>\n",
       "      <td>82.00</td>\n",
       "      <td>8.30</td>\n",
       "      <td>E</td>\n",
       "      <td>35.52</td>\n",
       "      <td>E</td>\n",
       "      <td>Для всех</td>\n",
       "    </tr>\n",
       "    <tr>\n",
       "      <td>3</td>\n",
       "      <td>Wii Sports Resort</td>\n",
       "      <td>Wii</td>\n",
       "      <td>2,009.00</td>\n",
       "      <td>Sports</td>\n",
       "      <td>15.61</td>\n",
       "      <td>10.93</td>\n",
       "      <td>3.28</td>\n",
       "      <td>2.95</td>\n",
       "      <td>80.00</td>\n",
       "      <td>8.00</td>\n",
       "      <td>E</td>\n",
       "      <td>32.77</td>\n",
       "      <td>E</td>\n",
       "      <td>Для всех</td>\n",
       "    </tr>\n",
       "    <tr>\n",
       "      <td>4</td>\n",
       "      <td>Pokemon Red/Pokemon Blue</td>\n",
       "      <td>GB</td>\n",
       "      <td>1,996.00</td>\n",
       "      <td>Role-Playing</td>\n",
       "      <td>11.27</td>\n",
       "      <td>8.89</td>\n",
       "      <td>10.22</td>\n",
       "      <td>1.00</td>\n",
       "      <td>nan</td>\n",
       "      <td>nan</td>\n",
       "      <td>NaN</td>\n",
       "      <td>31.38</td>\n",
       "      <td>NaN</td>\n",
       "      <td>NaN</td>\n",
       "    </tr>\n",
       "    <tr>\n",
       "      <td>...</td>\n",
       "      <td>...</td>\n",
       "      <td>...</td>\n",
       "      <td>...</td>\n",
       "      <td>...</td>\n",
       "      <td>...</td>\n",
       "      <td>...</td>\n",
       "      <td>...</td>\n",
       "      <td>...</td>\n",
       "      <td>...</td>\n",
       "      <td>...</td>\n",
       "      <td>...</td>\n",
       "      <td>...</td>\n",
       "      <td>...</td>\n",
       "      <td>...</td>\n",
       "    </tr>\n",
       "    <tr>\n",
       "      <td>16708</td>\n",
       "      <td>Samurai Warriors: Sanada Maru</td>\n",
       "      <td>PS3</td>\n",
       "      <td>2,016.00</td>\n",
       "      <td>Action</td>\n",
       "      <td>0.00</td>\n",
       "      <td>0.00</td>\n",
       "      <td>0.01</td>\n",
       "      <td>0.00</td>\n",
       "      <td>nan</td>\n",
       "      <td>nan</td>\n",
       "      <td>NaN</td>\n",
       "      <td>0.01</td>\n",
       "      <td>NaN</td>\n",
       "      <td>NaN</td>\n",
       "    </tr>\n",
       "    <tr>\n",
       "      <td>16709</td>\n",
       "      <td>LMA Manager 2007</td>\n",
       "      <td>X360</td>\n",
       "      <td>2,006.00</td>\n",
       "      <td>Sports</td>\n",
       "      <td>0.00</td>\n",
       "      <td>0.01</td>\n",
       "      <td>0.00</td>\n",
       "      <td>0.00</td>\n",
       "      <td>nan</td>\n",
       "      <td>nan</td>\n",
       "      <td>NaN</td>\n",
       "      <td>0.01</td>\n",
       "      <td>NaN</td>\n",
       "      <td>NaN</td>\n",
       "    </tr>\n",
       "    <tr>\n",
       "      <td>16710</td>\n",
       "      <td>Haitaka no Psychedelica</td>\n",
       "      <td>PSV</td>\n",
       "      <td>2,016.00</td>\n",
       "      <td>Adventure</td>\n",
       "      <td>0.00</td>\n",
       "      <td>0.00</td>\n",
       "      <td>0.01</td>\n",
       "      <td>0.00</td>\n",
       "      <td>nan</td>\n",
       "      <td>nan</td>\n",
       "      <td>NaN</td>\n",
       "      <td>0.01</td>\n",
       "      <td>NaN</td>\n",
       "      <td>NaN</td>\n",
       "    </tr>\n",
       "    <tr>\n",
       "      <td>16711</td>\n",
       "      <td>Spirits &amp; Spells</td>\n",
       "      <td>GBA</td>\n",
       "      <td>2,003.00</td>\n",
       "      <td>Platform</td>\n",
       "      <td>0.01</td>\n",
       "      <td>0.00</td>\n",
       "      <td>0.00</td>\n",
       "      <td>0.00</td>\n",
       "      <td>nan</td>\n",
       "      <td>nan</td>\n",
       "      <td>NaN</td>\n",
       "      <td>0.01</td>\n",
       "      <td>NaN</td>\n",
       "      <td>NaN</td>\n",
       "    </tr>\n",
       "    <tr>\n",
       "      <td>16712</td>\n",
       "      <td>Winning Post 8 2016</td>\n",
       "      <td>PSV</td>\n",
       "      <td>2,016.00</td>\n",
       "      <td>Simulation</td>\n",
       "      <td>0.00</td>\n",
       "      <td>0.00</td>\n",
       "      <td>0.01</td>\n",
       "      <td>0.00</td>\n",
       "      <td>nan</td>\n",
       "      <td>nan</td>\n",
       "      <td>NaN</td>\n",
       "      <td>0.01</td>\n",
       "      <td>NaN</td>\n",
       "      <td>NaN</td>\n",
       "    </tr>\n",
       "  </tbody>\n",
       "</table>\n",
       "<p>16713 rows × 14 columns</p>\n",
       "</div>"
      ],
      "text/plain": [
       "                                name platform     year         genre  \\\n",
       "0                         Wii Sports      Wii 2,006.00        Sports   \n",
       "1                  Super Mario Bros.      NES 1,985.00      Platform   \n",
       "2                     Mario Kart Wii      Wii 2,008.00        Racing   \n",
       "3                  Wii Sports Resort      Wii 2,009.00        Sports   \n",
       "4           Pokemon Red/Pokemon Blue       GB 1,996.00  Role-Playing   \n",
       "...                              ...      ...      ...           ...   \n",
       "16708  Samurai Warriors: Sanada Maru      PS3 2,016.00        Action   \n",
       "16709               LMA Manager 2007     X360 2,006.00        Sports   \n",
       "16710        Haitaka no Psychedelica      PSV 2,016.00     Adventure   \n",
       "16711               Spirits & Spells      GBA 2,003.00      Platform   \n",
       "16712            Winning Post 8 2016      PSV 2,016.00    Simulation   \n",
       "\n",
       "       na_sales  eu_sales  jp_sales  other_sales  critic_score  user_score  \\\n",
       "0         41.36     28.96      3.77         8.45         76.00        8.00   \n",
       "1         29.08      3.58      6.81         0.77           nan         nan   \n",
       "2         15.68     12.76      3.79         3.29         82.00        8.30   \n",
       "3         15.61     10.93      3.28         2.95         80.00        8.00   \n",
       "4         11.27      8.89     10.22         1.00           nan         nan   \n",
       "...         ...       ...       ...          ...           ...         ...   \n",
       "16708      0.00      0.00      0.01         0.00           nan         nan   \n",
       "16709      0.00      0.01      0.00         0.00           nan         nan   \n",
       "16710      0.00      0.00      0.01         0.00           nan         nan   \n",
       "16711      0.01      0.00      0.00         0.00           nan         nan   \n",
       "16712      0.00      0.00      0.01         0.00           nan         nan   \n",
       "\n",
       "      rating  total_sales rating_type description  \n",
       "0          E        82.54           E    Для всех  \n",
       "1        NaN        40.24         NaN         NaN  \n",
       "2          E        35.52           E    Для всех  \n",
       "3          E        32.77           E    Для всех  \n",
       "4        NaN        31.38         NaN         NaN  \n",
       "...      ...          ...         ...         ...  \n",
       "16708    NaN         0.01         NaN         NaN  \n",
       "16709    NaN         0.01         NaN         NaN  \n",
       "16710    NaN         0.01         NaN         NaN  \n",
       "16711    NaN         0.01         NaN         NaN  \n",
       "16712    NaN         0.01         NaN         NaN  \n",
       "\n",
       "[16713 rows x 14 columns]"
      ]
     },
     "execution_count": 18,
     "metadata": {},
     "output_type": "execute_result"
    }
   ],
   "source": [
    "games"
   ]
  },
  {
   "cell_type": "code",
   "execution_count": 19,
   "metadata": {},
   "outputs": [],
   "source": [
    "actual_platforms = ['3DS', 'XOne', 'PS4']"
   ]
  },
  {
   "cell_type": "code",
   "execution_count": 20,
   "metadata": {},
   "outputs": [
    {
     "data": {
      "text/html": [
       "<div>\n",
       "<style scoped>\n",
       "    .dataframe tbody tr th:only-of-type {\n",
       "        vertical-align: middle;\n",
       "    }\n",
       "\n",
       "    .dataframe tbody tr th {\n",
       "        vertical-align: top;\n",
       "    }\n",
       "\n",
       "    .dataframe thead tr th {\n",
       "        text-align: left;\n",
       "    }\n",
       "</style>\n",
       "<table border=\"1\" class=\"dataframe\">\n",
       "  <thead>\n",
       "    <tr>\n",
       "      <th></th>\n",
       "      <th>platform</th>\n",
       "      <th colspan=\"2\" halign=\"left\">year</th>\n",
       "      <th>lifetime</th>\n",
       "    </tr>\n",
       "    <tr>\n",
       "      <th></th>\n",
       "      <th></th>\n",
       "      <th>min</th>\n",
       "      <th>max</th>\n",
       "      <th></th>\n",
       "    </tr>\n",
       "  </thead>\n",
       "  <tbody>\n",
       "    <tr>\n",
       "      <td>0</td>\n",
       "      <td>PC</td>\n",
       "      <td>1,985.00</td>\n",
       "      <td>2,016.00</td>\n",
       "      <td>31.00</td>\n",
       "    </tr>\n",
       "    <tr>\n",
       "      <td>1</td>\n",
       "      <td>DS</td>\n",
       "      <td>1,985.00</td>\n",
       "      <td>2,013.00</td>\n",
       "      <td>28.00</td>\n",
       "    </tr>\n",
       "    <tr>\n",
       "      <td>2</td>\n",
       "      <td>GB</td>\n",
       "      <td>1,988.00</td>\n",
       "      <td>2,001.00</td>\n",
       "      <td>13.00</td>\n",
       "    </tr>\n",
       "    <tr>\n",
       "      <td>3</td>\n",
       "      <td>X360</td>\n",
       "      <td>2,005.00</td>\n",
       "      <td>2,016.00</td>\n",
       "      <td>11.00</td>\n",
       "    </tr>\n",
       "    <tr>\n",
       "      <td>4</td>\n",
       "      <td>PSP</td>\n",
       "      <td>2,004.00</td>\n",
       "      <td>2,015.00</td>\n",
       "      <td>11.00</td>\n",
       "    </tr>\n",
       "    <tr>\n",
       "      <td>5</td>\n",
       "      <td>NES</td>\n",
       "      <td>1,983.00</td>\n",
       "      <td>1,994.00</td>\n",
       "      <td>11.00</td>\n",
       "    </tr>\n",
       "    <tr>\n",
       "      <td>6</td>\n",
       "      <td>PS2</td>\n",
       "      <td>2,000.00</td>\n",
       "      <td>2,011.00</td>\n",
       "      <td>11.00</td>\n",
       "    </tr>\n",
       "    <tr>\n",
       "      <td>7</td>\n",
       "      <td>DC</td>\n",
       "      <td>1,998.00</td>\n",
       "      <td>2,008.00</td>\n",
       "      <td>10.00</td>\n",
       "    </tr>\n",
       "    <tr>\n",
       "      <td>8</td>\n",
       "      <td>Wii</td>\n",
       "      <td>2,006.00</td>\n",
       "      <td>2,016.00</td>\n",
       "      <td>10.00</td>\n",
       "    </tr>\n",
       "    <tr>\n",
       "      <td>9</td>\n",
       "      <td>PS3</td>\n",
       "      <td>2,006.00</td>\n",
       "      <td>2,016.00</td>\n",
       "      <td>10.00</td>\n",
       "    </tr>\n",
       "    <tr>\n",
       "      <td>10</td>\n",
       "      <td>2600</td>\n",
       "      <td>1,980.00</td>\n",
       "      <td>1,989.00</td>\n",
       "      <td>9.00</td>\n",
       "    </tr>\n",
       "    <tr>\n",
       "      <td>11</td>\n",
       "      <td>SNES</td>\n",
       "      <td>1,990.00</td>\n",
       "      <td>1,999.00</td>\n",
       "      <td>9.00</td>\n",
       "    </tr>\n",
       "    <tr>\n",
       "      <td>12</td>\n",
       "      <td>PS</td>\n",
       "      <td>1,994.00</td>\n",
       "      <td>2,003.00</td>\n",
       "      <td>9.00</td>\n",
       "    </tr>\n",
       "    <tr>\n",
       "      <td>13</td>\n",
       "      <td>XB</td>\n",
       "      <td>2,000.00</td>\n",
       "      <td>2,008.00</td>\n",
       "      <td>8.00</td>\n",
       "    </tr>\n",
       "    <tr>\n",
       "      <td>14</td>\n",
       "      <td>GBA</td>\n",
       "      <td>2,000.00</td>\n",
       "      <td>2,007.00</td>\n",
       "      <td>7.00</td>\n",
       "    </tr>\n",
       "    <tr>\n",
       "      <td>15</td>\n",
       "      <td>N64</td>\n",
       "      <td>1,996.00</td>\n",
       "      <td>2,002.00</td>\n",
       "      <td>6.00</td>\n",
       "    </tr>\n",
       "    <tr>\n",
       "      <td>16</td>\n",
       "      <td>GC</td>\n",
       "      <td>2,001.00</td>\n",
       "      <td>2,007.00</td>\n",
       "      <td>6.00</td>\n",
       "    </tr>\n",
       "    <tr>\n",
       "      <td>17</td>\n",
       "      <td>PSV</td>\n",
       "      <td>2,011.00</td>\n",
       "      <td>2,016.00</td>\n",
       "      <td>5.00</td>\n",
       "    </tr>\n",
       "    <tr>\n",
       "      <td>18</td>\n",
       "      <td>SAT</td>\n",
       "      <td>1,994.00</td>\n",
       "      <td>1,999.00</td>\n",
       "      <td>5.00</td>\n",
       "    </tr>\n",
       "    <tr>\n",
       "      <td>19</td>\n",
       "      <td>GEN</td>\n",
       "      <td>1,990.00</td>\n",
       "      <td>1,994.00</td>\n",
       "      <td>4.00</td>\n",
       "    </tr>\n",
       "    <tr>\n",
       "      <td>20</td>\n",
       "      <td>WiiU</td>\n",
       "      <td>2,012.00</td>\n",
       "      <td>2,016.00</td>\n",
       "      <td>4.00</td>\n",
       "    </tr>\n",
       "    <tr>\n",
       "      <td>21</td>\n",
       "      <td>NG</td>\n",
       "      <td>1,993.00</td>\n",
       "      <td>1,996.00</td>\n",
       "      <td>3.00</td>\n",
       "    </tr>\n",
       "    <tr>\n",
       "      <td>22</td>\n",
       "      <td>WS</td>\n",
       "      <td>1,999.00</td>\n",
       "      <td>2,001.00</td>\n",
       "      <td>2.00</td>\n",
       "    </tr>\n",
       "    <tr>\n",
       "      <td>23</td>\n",
       "      <td>3DO</td>\n",
       "      <td>1,994.00</td>\n",
       "      <td>1,995.00</td>\n",
       "      <td>1.00</td>\n",
       "    </tr>\n",
       "    <tr>\n",
       "      <td>24</td>\n",
       "      <td>SCD</td>\n",
       "      <td>1,993.00</td>\n",
       "      <td>1,994.00</td>\n",
       "      <td>1.00</td>\n",
       "    </tr>\n",
       "    <tr>\n",
       "      <td>25</td>\n",
       "      <td>PCFX</td>\n",
       "      <td>1,996.00</td>\n",
       "      <td>1,996.00</td>\n",
       "      <td>0.00</td>\n",
       "    </tr>\n",
       "    <tr>\n",
       "      <td>26</td>\n",
       "      <td>GG</td>\n",
       "      <td>1,992.00</td>\n",
       "      <td>1,992.00</td>\n",
       "      <td>0.00</td>\n",
       "    </tr>\n",
       "    <tr>\n",
       "      <td>27</td>\n",
       "      <td>TG16</td>\n",
       "      <td>1,995.00</td>\n",
       "      <td>1,995.00</td>\n",
       "      <td>0.00</td>\n",
       "    </tr>\n",
       "  </tbody>\n",
       "</table>\n",
       "</div>"
      ],
      "text/plain": [
       "   platform     year          lifetime\n",
       "                 min      max         \n",
       "0        PC 1,985.00 2,016.00    31.00\n",
       "1        DS 1,985.00 2,013.00    28.00\n",
       "2        GB 1,988.00 2,001.00    13.00\n",
       "3      X360 2,005.00 2,016.00    11.00\n",
       "4       PSP 2,004.00 2,015.00    11.00\n",
       "5       NES 1,983.00 1,994.00    11.00\n",
       "6       PS2 2,000.00 2,011.00    11.00\n",
       "7        DC 1,998.00 2,008.00    10.00\n",
       "8       Wii 2,006.00 2,016.00    10.00\n",
       "9       PS3 2,006.00 2,016.00    10.00\n",
       "10     2600 1,980.00 1,989.00     9.00\n",
       "11     SNES 1,990.00 1,999.00     9.00\n",
       "12       PS 1,994.00 2,003.00     9.00\n",
       "13       XB 2,000.00 2,008.00     8.00\n",
       "14      GBA 2,000.00 2,007.00     7.00\n",
       "15      N64 1,996.00 2,002.00     6.00\n",
       "16       GC 2,001.00 2,007.00     6.00\n",
       "17      PSV 2,011.00 2,016.00     5.00\n",
       "18      SAT 1,994.00 1,999.00     5.00\n",
       "19      GEN 1,990.00 1,994.00     4.00\n",
       "20     WiiU 2,012.00 2,016.00     4.00\n",
       "21       NG 1,993.00 1,996.00     3.00\n",
       "22       WS 1,999.00 2,001.00     2.00\n",
       "23      3DO 1,994.00 1,995.00     1.00\n",
       "24      SCD 1,993.00 1,994.00     1.00\n",
       "25     PCFX 1,996.00 1,996.00     0.00\n",
       "26       GG 1,992.00 1,992.00     0.00\n",
       "27     TG16 1,995.00 1,995.00     0.00"
      ]
     },
     "execution_count": 20,
     "metadata": {},
     "output_type": "execute_result"
    }
   ],
   "source": [
    "platform_lifetime = games[~games['platform'].isin(actual_platforms)].groupby('platform').agg({'year':['min', 'max']}).reset_index()\n",
    "platform_lifetime['lifetime'] = platform_lifetime['year']['max'] - platform_lifetime['year']['min']\n",
    "platform_lifetime.sort_values(by='lifetime', ascending=False).reset_index(drop=True)"
   ]
  },
  {
   "cell_type": "code",
   "execution_count": 21,
   "metadata": {},
   "outputs": [
    {
     "name": "stdout",
     "output_type": "stream",
     "text": [
      "8.035714285714286\n",
      "7.5\n"
     ]
    }
   ],
   "source": [
    "print(platform_lifetime['lifetime'].mean())\n",
    "print(platform_lifetime['lifetime'].median())"
   ]
  },
  {
   "cell_type": "code",
   "execution_count": 22,
   "metadata": {},
   "outputs": [],
   "source": [
    "def drop_anomalies(df, col):\n",
    "    q1 = df[col].quantile(0.25)                 \n",
    "    q3 = df[col].quantile(0.75)\n",
    "    iqr = q3 - q1\n",
    "    iqr_test = (df[col] >= (q1 - 1.5 * iqr)) & (df[col] <= (q3 + 1.5 * iqr))\n",
    "\n",
    "    return df.loc[iqr_test]"
   ]
  },
  {
   "cell_type": "code",
   "execution_count": 23,
   "metadata": {},
   "outputs": [
    {
     "name": "stdout",
     "output_type": "stream",
     "text": [
      "6.5\n",
      "6.384615384615385\n"
     ]
    }
   ],
   "source": [
    "print(drop_anomalies(platform_lifetime, 'lifetime')['lifetime'].median())\n",
    "print(drop_anomalies(platform_lifetime, 'lifetime')['lifetime'].mean())"
   ]
  },
  {
   "cell_type": "code",
   "execution_count": 24,
   "metadata": {},
   "outputs": [
    {
     "data": {
      "text/html": [
       "<div>\n",
       "<style scoped>\n",
       "    .dataframe tbody tr th:only-of-type {\n",
       "        vertical-align: middle;\n",
       "    }\n",
       "\n",
       "    .dataframe tbody tr th {\n",
       "        vertical-align: top;\n",
       "    }\n",
       "\n",
       "    .dataframe thead tr th {\n",
       "        text-align: left;\n",
       "    }\n",
       "</style>\n",
       "<table border=\"1\" class=\"dataframe\">\n",
       "  <thead>\n",
       "    <tr>\n",
       "      <th></th>\n",
       "      <th>lifetime</th>\n",
       "    </tr>\n",
       "    <tr>\n",
       "      <th></th>\n",
       "      <th></th>\n",
       "    </tr>\n",
       "  </thead>\n",
       "  <tbody>\n",
       "    <tr>\n",
       "      <td>mean</td>\n",
       "      <td>8.04</td>\n",
       "    </tr>\n",
       "    <tr>\n",
       "      <td>std</td>\n",
       "      <td>7.24</td>\n",
       "    </tr>\n",
       "    <tr>\n",
       "      <td>min</td>\n",
       "      <td>0.00</td>\n",
       "    </tr>\n",
       "    <tr>\n",
       "      <td>max</td>\n",
       "      <td>31.00</td>\n",
       "    </tr>\n",
       "  </tbody>\n",
       "</table>\n",
       "</div>"
      ],
      "text/plain": [
       "     lifetime\n",
       "             \n",
       "mean     8.04\n",
       "std      7.24\n",
       "min      0.00\n",
       "max     31.00"
      ]
     },
     "execution_count": 24,
     "metadata": {},
     "output_type": "execute_result"
    }
   ],
   "source": [
    "platform_lifetime[['lifetime']].describe().loc[['mean', 'std', 'min', 'max']]"
   ]
  },
  {
   "cell_type": "code",
   "execution_count": 25,
   "metadata": {},
   "outputs": [
    {
     "data": {
      "text/html": [
       "<div>\n",
       "<style scoped>\n",
       "    .dataframe tbody tr th:only-of-type {\n",
       "        vertical-align: middle;\n",
       "    }\n",
       "\n",
       "    .dataframe tbody tr th {\n",
       "        vertical-align: top;\n",
       "    }\n",
       "\n",
       "    .dataframe thead tr th {\n",
       "        text-align: left;\n",
       "    }\n",
       "</style>\n",
       "<table border=\"1\" class=\"dataframe\">\n",
       "  <thead>\n",
       "    <tr>\n",
       "      <th></th>\n",
       "      <th>lifetime</th>\n",
       "    </tr>\n",
       "    <tr>\n",
       "      <th></th>\n",
       "      <th></th>\n",
       "    </tr>\n",
       "  </thead>\n",
       "  <tbody>\n",
       "    <tr>\n",
       "      <td>mean</td>\n",
       "      <td>6.38</td>\n",
       "    </tr>\n",
       "    <tr>\n",
       "      <td>std</td>\n",
       "      <td>4.09</td>\n",
       "    </tr>\n",
       "    <tr>\n",
       "      <td>min</td>\n",
       "      <td>0.00</td>\n",
       "    </tr>\n",
       "    <tr>\n",
       "      <td>max</td>\n",
       "      <td>13.00</td>\n",
       "    </tr>\n",
       "  </tbody>\n",
       "</table>\n",
       "</div>"
      ],
      "text/plain": [
       "     lifetime\n",
       "             \n",
       "mean     6.38\n",
       "std      4.09\n",
       "min      0.00\n",
       "max     13.00"
      ]
     },
     "execution_count": 25,
     "metadata": {},
     "output_type": "execute_result"
    }
   ],
   "source": [
    "(drop_anomalies(platform_lifetime, 'lifetime'))[['lifetime']].describe().loc[['mean', 'std', 'min', 'max']]"
   ]
  },
  {
   "cell_type": "markdown",
   "metadata": {},
   "source": [
    "<div class=\"alert alert-info\">\n",
    "    <h2> Комментарий учащегося (СТАРЫЙ)</h2>\n",
    "    \n",
    "Как видим (по имеющимся данным) среднее время жизни игровой платформы - 6 лет (медианное значаение не меняется при наличии выбросов и их отсутствии, математическое среднее с выбросами ~7.5 лет, без выбросов - 6 лет).\n",
    "    \n",
    "Стандартное отклонение ~4 года, т.е. продолжительность варьируется от 2 до 10 лет (без выбросов, с выбросами данные не совсем корректны)\n",
    "    \n",
    "</div>"
   ]
  },
  {
   "cell_type": "markdown",
   "metadata": {},
   "source": [
    "<div class=\"alert alert-warning\">\n",
    "<h2> Комментарий ревьюера </h2>\n",
    "\n",
    "Расчет актуального периода приведен. Стоило только отсечь актуальные платформы. Период их жизни еще продолжается. \n",
    "\n",
    "</div>"
   ]
  },
  {
   "cell_type": "markdown",
   "metadata": {},
   "source": [
    "<div class=\"alert alert-info\">\n",
    "    <h2> Комментарий учащегося</h2>\n",
    "    \n",
    "Согласен, отсек 3 платформы которые на данный момент являются актуальными - среднее время жизни (все данные) увеличилось до 8-ми лет, без аномалий - те же 6 лет + стандартное отклонение в 4 года\n",
    "    \n",
    "</div>"
   ]
  },
  {
   "cell_type": "markdown",
   "metadata": {},
   "source": [
    "<div class=\"alert alert-success\">\n",
    "<h2> Комментарий ревьюера 2</h2>\n",
    "\n",
    "ДА, теперь расчет проведен корректно.  \n",
    "\n",
    "</div>"
   ]
  },
  {
   "cell_type": "code",
   "execution_count": 26,
   "metadata": {},
   "outputs": [],
   "source": [
    "sales = actual_games.pivot_table(index=['platform', 'year'],\n",
    "                                       values='total_sales', aggfunc='sum')"
   ]
  },
  {
   "cell_type": "code",
   "execution_count": 27,
   "metadata": {},
   "outputs": [
    {
     "data": {
      "text/html": [
       "<div>\n",
       "<style scoped>\n",
       "    .dataframe tbody tr th:only-of-type {\n",
       "        vertical-align: middle;\n",
       "    }\n",
       "\n",
       "    .dataframe tbody tr th {\n",
       "        vertical-align: top;\n",
       "    }\n",
       "\n",
       "    .dataframe thead th {\n",
       "        text-align: right;\n",
       "    }\n",
       "</style>\n",
       "<table border=\"1\" class=\"dataframe\">\n",
       "  <thead>\n",
       "    <tr style=\"text-align: right;\">\n",
       "      <th></th>\n",
       "      <th></th>\n",
       "      <th>total_sales</th>\n",
       "    </tr>\n",
       "    <tr>\n",
       "      <th>platform</th>\n",
       "      <th>year</th>\n",
       "      <th></th>\n",
       "    </tr>\n",
       "  </thead>\n",
       "  <tbody>\n",
       "    <tr>\n",
       "      <td rowspan=\"5\" valign=\"top\">3DS</td>\n",
       "      <td>2,012.00</td>\n",
       "      <td>51.36</td>\n",
       "    </tr>\n",
       "    <tr>\n",
       "      <td>2,013.00</td>\n",
       "      <td>56.57</td>\n",
       "    </tr>\n",
       "    <tr>\n",
       "      <td>2,014.00</td>\n",
       "      <td>43.76</td>\n",
       "    </tr>\n",
       "    <tr>\n",
       "      <td>2,015.00</td>\n",
       "      <td>27.78</td>\n",
       "    </tr>\n",
       "    <tr>\n",
       "      <td>2,016.00</td>\n",
       "      <td>15.14</td>\n",
       "    </tr>\n",
       "    <tr>\n",
       "      <td rowspan=\"2\" valign=\"top\">DS</td>\n",
       "      <td>2,012.00</td>\n",
       "      <td>11.01</td>\n",
       "    </tr>\n",
       "    <tr>\n",
       "      <td>2,013.00</td>\n",
       "      <td>1.54</td>\n",
       "    </tr>\n",
       "    <tr>\n",
       "      <td rowspan=\"5\" valign=\"top\">PC</td>\n",
       "      <td>2,012.00</td>\n",
       "      <td>23.22</td>\n",
       "    </tr>\n",
       "    <tr>\n",
       "      <td>2,013.00</td>\n",
       "      <td>12.38</td>\n",
       "    </tr>\n",
       "    <tr>\n",
       "      <td>2,014.00</td>\n",
       "      <td>13.28</td>\n",
       "    </tr>\n",
       "    <tr>\n",
       "      <td>2,015.00</td>\n",
       "      <td>8.52</td>\n",
       "    </tr>\n",
       "    <tr>\n",
       "      <td>2,016.00</td>\n",
       "      <td>5.25</td>\n",
       "    </tr>\n",
       "    <tr>\n",
       "      <td rowspan=\"5\" valign=\"top\">PS3</td>\n",
       "      <td>2,012.00</td>\n",
       "      <td>107.36</td>\n",
       "    </tr>\n",
       "    <tr>\n",
       "      <td>2,013.00</td>\n",
       "      <td>113.25</td>\n",
       "    </tr>\n",
       "    <tr>\n",
       "      <td>2,014.00</td>\n",
       "      <td>47.76</td>\n",
       "    </tr>\n",
       "    <tr>\n",
       "      <td>2,015.00</td>\n",
       "      <td>16.82</td>\n",
       "    </tr>\n",
       "    <tr>\n",
       "      <td>2,016.00</td>\n",
       "      <td>3.60</td>\n",
       "    </tr>\n",
       "    <tr>\n",
       "      <td rowspan=\"4\" valign=\"top\">PS4</td>\n",
       "      <td>2,013.00</td>\n",
       "      <td>25.99</td>\n",
       "    </tr>\n",
       "    <tr>\n",
       "      <td>2,014.00</td>\n",
       "      <td>100.00</td>\n",
       "    </tr>\n",
       "    <tr>\n",
       "      <td>2,015.00</td>\n",
       "      <td>118.90</td>\n",
       "    </tr>\n",
       "    <tr>\n",
       "      <td>2,016.00</td>\n",
       "      <td>69.25</td>\n",
       "    </tr>\n",
       "    <tr>\n",
       "      <td rowspan=\"4\" valign=\"top\">PSP</td>\n",
       "      <td>2,012.00</td>\n",
       "      <td>7.69</td>\n",
       "    </tr>\n",
       "    <tr>\n",
       "      <td>2,013.00</td>\n",
       "      <td>3.14</td>\n",
       "    </tr>\n",
       "    <tr>\n",
       "      <td>2,014.00</td>\n",
       "      <td>0.24</td>\n",
       "    </tr>\n",
       "    <tr>\n",
       "      <td>2,015.00</td>\n",
       "      <td>0.12</td>\n",
       "    </tr>\n",
       "    <tr>\n",
       "      <td rowspan=\"5\" valign=\"top\">PSV</td>\n",
       "      <td>2,012.00</td>\n",
       "      <td>16.19</td>\n",
       "    </tr>\n",
       "    <tr>\n",
       "      <td>2,013.00</td>\n",
       "      <td>10.59</td>\n",
       "    </tr>\n",
       "    <tr>\n",
       "      <td>2,014.00</td>\n",
       "      <td>11.90</td>\n",
       "    </tr>\n",
       "    <tr>\n",
       "      <td>2,015.00</td>\n",
       "      <td>6.25</td>\n",
       "    </tr>\n",
       "    <tr>\n",
       "      <td>2,016.00</td>\n",
       "      <td>4.25</td>\n",
       "    </tr>\n",
       "    <tr>\n",
       "      <td rowspan=\"5\" valign=\"top\">Wii</td>\n",
       "      <td>2,012.00</td>\n",
       "      <td>21.71</td>\n",
       "    </tr>\n",
       "    <tr>\n",
       "      <td>2,013.00</td>\n",
       "      <td>8.59</td>\n",
       "    </tr>\n",
       "    <tr>\n",
       "      <td>2,014.00</td>\n",
       "      <td>3.75</td>\n",
       "    </tr>\n",
       "    <tr>\n",
       "      <td>2,015.00</td>\n",
       "      <td>1.14</td>\n",
       "    </tr>\n",
       "    <tr>\n",
       "      <td>2,016.00</td>\n",
       "      <td>0.18</td>\n",
       "    </tr>\n",
       "    <tr>\n",
       "      <td rowspan=\"5\" valign=\"top\">WiiU</td>\n",
       "      <td>2,012.00</td>\n",
       "      <td>17.56</td>\n",
       "    </tr>\n",
       "    <tr>\n",
       "      <td>2,013.00</td>\n",
       "      <td>21.65</td>\n",
       "    </tr>\n",
       "    <tr>\n",
       "      <td>2,014.00</td>\n",
       "      <td>22.03</td>\n",
       "    </tr>\n",
       "    <tr>\n",
       "      <td>2,015.00</td>\n",
       "      <td>16.35</td>\n",
       "    </tr>\n",
       "    <tr>\n",
       "      <td>2,016.00</td>\n",
       "      <td>4.60</td>\n",
       "    </tr>\n",
       "    <tr>\n",
       "      <td rowspan=\"5\" valign=\"top\">X360</td>\n",
       "      <td>2,012.00</td>\n",
       "      <td>99.74</td>\n",
       "    </tr>\n",
       "    <tr>\n",
       "      <td>2,013.00</td>\n",
       "      <td>88.58</td>\n",
       "    </tr>\n",
       "    <tr>\n",
       "      <td>2,014.00</td>\n",
       "      <td>34.74</td>\n",
       "    </tr>\n",
       "    <tr>\n",
       "      <td>2,015.00</td>\n",
       "      <td>11.96</td>\n",
       "    </tr>\n",
       "    <tr>\n",
       "      <td>2,016.00</td>\n",
       "      <td>1.52</td>\n",
       "    </tr>\n",
       "    <tr>\n",
       "      <td rowspan=\"4\" valign=\"top\">XOne</td>\n",
       "      <td>2,013.00</td>\n",
       "      <td>18.96</td>\n",
       "    </tr>\n",
       "    <tr>\n",
       "      <td>2,014.00</td>\n",
       "      <td>54.07</td>\n",
       "    </tr>\n",
       "    <tr>\n",
       "      <td>2,015.00</td>\n",
       "      <td>60.14</td>\n",
       "    </tr>\n",
       "    <tr>\n",
       "      <td>2,016.00</td>\n",
       "      <td>26.15</td>\n",
       "    </tr>\n",
       "  </tbody>\n",
       "</table>\n",
       "</div>"
      ],
      "text/plain": [
       "                   total_sales\n",
       "platform year                 \n",
       "3DS      2,012.00        51.36\n",
       "         2,013.00        56.57\n",
       "         2,014.00        43.76\n",
       "         2,015.00        27.78\n",
       "         2,016.00        15.14\n",
       "DS       2,012.00        11.01\n",
       "         2,013.00         1.54\n",
       "PC       2,012.00        23.22\n",
       "         2,013.00        12.38\n",
       "         2,014.00        13.28\n",
       "         2,015.00         8.52\n",
       "         2,016.00         5.25\n",
       "PS3      2,012.00       107.36\n",
       "         2,013.00       113.25\n",
       "         2,014.00        47.76\n",
       "         2,015.00        16.82\n",
       "         2,016.00         3.60\n",
       "PS4      2,013.00        25.99\n",
       "         2,014.00       100.00\n",
       "         2,015.00       118.90\n",
       "         2,016.00        69.25\n",
       "PSP      2,012.00         7.69\n",
       "         2,013.00         3.14\n",
       "         2,014.00         0.24\n",
       "         2,015.00         0.12\n",
       "PSV      2,012.00        16.19\n",
       "         2,013.00        10.59\n",
       "         2,014.00        11.90\n",
       "         2,015.00         6.25\n",
       "         2,016.00         4.25\n",
       "Wii      2,012.00        21.71\n",
       "         2,013.00         8.59\n",
       "         2,014.00         3.75\n",
       "         2,015.00         1.14\n",
       "         2,016.00         0.18\n",
       "WiiU     2,012.00        17.56\n",
       "         2,013.00        21.65\n",
       "         2,014.00        22.03\n",
       "         2,015.00        16.35\n",
       "         2,016.00         4.60\n",
       "X360     2,012.00        99.74\n",
       "         2,013.00        88.58\n",
       "         2,014.00        34.74\n",
       "         2,015.00        11.96\n",
       "         2,016.00         1.52\n",
       "XOne     2,013.00        18.96\n",
       "         2,014.00        54.07\n",
       "         2,015.00        60.14\n",
       "         2,016.00        26.15"
      ]
     },
     "execution_count": 27,
     "metadata": {},
     "output_type": "execute_result"
    }
   ],
   "source": [
    "sales"
   ]
  },
  {
   "cell_type": "code",
   "execution_count": 28,
   "metadata": {},
   "outputs": [
    {
     "name": "stderr",
     "output_type": "stream",
     "text": [
      "/opt/conda/lib/python3.7/site-packages/numpy/core/_asarray.py:83: VisibleDeprecationWarning: Creating an ndarray from ragged nested sequences (which is a list-or-tuple of lists-or-tuples-or ndarrays with different lengths or shapes) is deprecated. If you meant to do this, you must specify 'dtype=object' when creating the ndarray\n",
      "  return array(a, dtype, copy=False, order=order)\n"
     ]
    },
    {
     "data": {
      "text/plain": [
       "(0, 2)"
      ]
     },
     "execution_count": 28,
     "metadata": {},
     "output_type": "execute_result"
    },
    {
     "data": {
      "image/png": "[encoded data removed]",
      "text/plain": [
       "<Figure size 1296x864 with 1 Axes>"
      ]
     },
     "metadata": {
      "needs_background": "light"
     },
     "output_type": "display_data"
    }
   ],
   "source": [
    "fig,ax = plt.subplots(figsize=(18,12))\n",
    "\n",
    "actual_games.pivot_table(values='total_sales', index=['name'],\n",
    "                                                 columns='platform').boxplot(\n",
    "                                                ax=ax, grid=True)\n",
    "\n",
    "ax.set_ylim(0,2)"
   ]
  },
  {
   "cell_type": "markdown",
   "metadata": {},
   "source": [
    "<div class=\"alert alert-info\">\n",
    "    <h2> Комментарий учащегося</h2>\n",
    "\n",
    "Из графика видно что:\n",
    "- больше всего продаж у платформ X360, XOne, PS4, Wii, PS3, WiiU, 3DS\n",
    "    \n",
    "Из вышеперечисленных платформ по сводной таблице делаем вывод:\n",
    "- X360 безбожно устарела, в 2016 году продажи упали почти что в 0\n",
    "- тоже самое можно сказать о Wii и WiiU\n",
    "- PS3 тоже выбывает из дальнейших соревнований - у неё дела ненамного лучше\n",
    "- PS4, 3DS и XOne чувствуют себя лучше всех в 2016 году\n",
    "    \n",
    "\n",
    "Так же стоит отметить что продажи на всех платформах очень сильно упали за последние 2-3 года (единственное исключение - относительно свежий XOne и PS4).\n",
    "    \n",
    "</div>"
   ]
  },
  {
   "cell_type": "markdown",
   "metadata": {},
   "source": [
    "<div class=\"alert alert-success\">\n",
    "<h2> Комментарий ревьюера </h2>\n",
    "\n",
    "Да, именно вышеназванные платформы мы и можем назвать перспективными на 2017 год. \n",
    "\n",
    "</div>"
   ]
  },
  {
   "cell_type": "code",
   "execution_count": 29,
   "metadata": {},
   "outputs": [
    {
     "data": {
      "text/html": [
       "<div>\n",
       "<style scoped>\n",
       "    .dataframe tbody tr th:only-of-type {\n",
       "        vertical-align: middle;\n",
       "    }\n",
       "\n",
       "    .dataframe tbody tr th {\n",
       "        vertical-align: top;\n",
       "    }\n",
       "\n",
       "    .dataframe thead th {\n",
       "        text-align: right;\n",
       "    }\n",
       "</style>\n",
       "<table border=\"1\" class=\"dataframe\">\n",
       "  <thead>\n",
       "    <tr style=\"text-align: right;\">\n",
       "      <th>platform</th>\n",
       "      <th>3DS</th>\n",
       "      <th>PS4</th>\n",
       "      <th>XOne</th>\n",
       "    </tr>\n",
       "  </thead>\n",
       "  <tbody>\n",
       "    <tr>\n",
       "      <td>count</td>\n",
       "      <td>396.00</td>\n",
       "      <td>392.00</td>\n",
       "      <td>247.00</td>\n",
       "    </tr>\n",
       "    <tr>\n",
       "      <td>mean</td>\n",
       "      <td>0.49</td>\n",
       "      <td>0.80</td>\n",
       "      <td>0.65</td>\n",
       "    </tr>\n",
       "    <tr>\n",
       "      <td>std</td>\n",
       "      <td>1.39</td>\n",
       "      <td>1.61</td>\n",
       "      <td>1.04</td>\n",
       "    </tr>\n",
       "    <tr>\n",
       "      <td>min</td>\n",
       "      <td>0.01</td>\n",
       "      <td>0.01</td>\n",
       "      <td>0.01</td>\n",
       "    </tr>\n",
       "    <tr>\n",
       "      <td>25%</td>\n",
       "      <td>0.04</td>\n",
       "      <td>0.06</td>\n",
       "      <td>0.06</td>\n",
       "    </tr>\n",
       "    <tr>\n",
       "      <td>50%</td>\n",
       "      <td>0.11</td>\n",
       "      <td>0.20</td>\n",
       "      <td>0.22</td>\n",
       "    </tr>\n",
       "    <tr>\n",
       "      <td>75%</td>\n",
       "      <td>0.31</td>\n",
       "      <td>0.73</td>\n",
       "      <td>0.69</td>\n",
       "    </tr>\n",
       "    <tr>\n",
       "      <td>max</td>\n",
       "      <td>14.60</td>\n",
       "      <td>14.63</td>\n",
       "      <td>7.39</td>\n",
       "    </tr>\n",
       "  </tbody>\n",
       "</table>\n",
       "</div>"
      ],
      "text/plain": [
       "platform    3DS    PS4   XOne\n",
       "count    396.00 392.00 247.00\n",
       "mean       0.49   0.80   0.65\n",
       "std        1.39   1.61   1.04\n",
       "min        0.01   0.01   0.01\n",
       "25%        0.04   0.06   0.06\n",
       "50%        0.11   0.20   0.22\n",
       "75%        0.31   0.73   0.69\n",
       "max       14.60  14.63   7.39"
      ]
     },
     "execution_count": 29,
     "metadata": {},
     "output_type": "execute_result"
    }
   ],
   "source": [
    "actual_games[actual_games['platform'].isin(['PS4', '3DS', 'XOne'])\n",
    "            ].pivot_table(values='total_sales', \n",
    "                          index=['name'],\n",
    "                          columns='platform').describe()"
   ]
  },
  {
   "cell_type": "markdown",
   "metadata": {},
   "source": [
    "<div class=\"alert alert-info\">\n",
    "    <h2> Комментарий учащегося</h2>\n",
    "\n",
    "Больше всего продаж у платформы 3DS, однако у неё и самый низкий показатель средний цены продажи (предположительно у них просто-напросто много игр по низким ценам), в то время как у PS4 игр продано почти столько же, в то время как средняя цена почти на 40% выше - однозначно берем PS4 как топ-платформу.\n",
    "    \n",
    "</div>"
   ]
  },
  {
   "cell_type": "markdown",
   "metadata": {},
   "source": [
    "<div class=\"alert alert-warning\">\n",
    "<h2> Комментарий ревьюера</h2>\n",
    " \n",
    "Подумай, из-за чего формируется разница между платформами. Старайся не только описывать результат, но и трактовать его. \n",
    "\n",
    "</div>"
   ]
  },
  {
   "cell_type": "markdown",
   "metadata": {},
   "source": [
    "<div class=\"alert alert-info\">\n",
    "    <h2> Комментарий учащегося</h2>\n",
    "\n",
    "Разница между платформами формируется в первую очередь от страны-производителя платформы, т.к. страна-производитель ориентируется в первую очередь на локальных игроков.\n",
    "    \n",
    "К тому же 3DS - китайская портативная приставка, которая вмещается в карман, в то время как Х-Бох и ПС4 это полноразмерные стационарные устройства для которых нужны контроллеры + монитор. Это абсолютные разные категории приставок\n",
    "    \n",
    "</div>"
   ]
  },
  {
   "cell_type": "markdown",
   "metadata": {},
   "source": [
    "<div class=\"alert alert-success\">\n",
    "<h2> Комментарий ревьюера 2</h2>\n",
    "\n",
    "Соглашусь, форм-фактор, а также возможности производителя на рынке игр сильно влияют на получаемые результаты. \n",
    "\n",
    "</div>"
   ]
  },
  {
   "cell_type": "code",
   "execution_count": 30,
   "metadata": {},
   "outputs": [
    {
     "data": {
      "image/png": "[encoded data removed]",
      "text/plain": [
       "<Figure size 432x288 with 1 Axes>"
      ]
     },
     "metadata": {
      "needs_background": "light"
     },
     "output_type": "display_data"
    }
   ],
   "source": [
    "ax = plt.gca()\n",
    "\n",
    "games[(games['year'] != 3000) & (games['user_score'] > 0)].plot(y='year', x='total_sales', kind='hist', color='yellow', bins=25, ax=ax)\n",
    "games[(games['year'] != 3000) & (games['critic_score'] > 0)].plot(y='year', x='total_sales', kind='hist', bins=25, color='black', alpha=0.3, ax=ax)\n",
    "\n",
    "plt.legend(['Оценки игроков', 'Оценки критиков'])\n",
    "plt.title('Отзывы и без отзыва — критики')\n",
    "\n",
    "plt.show()"
   ]
  },
  {
   "cell_type": "markdown",
   "metadata": {},
   "source": [
    "<div class=\"alert alert-info\">\n",
    "    <h2> Комментарий учащегося</h2>\n",
    "\n",
    "Тут мало что понятно, обратимся к диаграммам рассеивания и корреляции\n",
    "    \n",
    "</div>"
   ]
  },
  {
   "cell_type": "code",
   "execution_count": 31,
   "metadata": {},
   "outputs": [
    {
     "data": {
      "image/png": "[encoded data removed]",
      "text/plain": [
       "<Figure size 1008x576 with 1 Axes>"
      ]
     },
     "metadata": {
      "needs_background": "light"
     },
     "output_type": "display_data"
    },
    {
     "data": {
      "image/png": "[encoded data removed]",
      "text/plain": [
       "<Figure size 1008x576 with 1 Axes>"
      ]
     },
     "metadata": {
      "needs_background": "light"
     },
     "output_type": "display_data"
    }
   ],
   "source": [
    "def plot_critics(df, platform, cols, sales):\n",
    "    for col in cols:\n",
    "        df_temp = df[(df['platform'] == platform) & (df[col] > 0)].copy()\n",
    "        df_temp.plot(kind='scatter', x=col, y=sales, ec='black', figsize=(14,8))\n",
    "        \n",
    "        \n",
    "\n",
    "plot_critics(games, 'PS4', ['critic_score', 'user_score'], 'total_sales')"
   ]
  },
  {
   "cell_type": "code",
   "execution_count": 32,
   "metadata": {},
   "outputs": [
    {
     "data": {
      "text/html": [
       "<div>\n",
       "<style scoped>\n",
       "    .dataframe tbody tr th:only-of-type {\n",
       "        vertical-align: middle;\n",
       "    }\n",
       "\n",
       "    .dataframe tbody tr th {\n",
       "        vertical-align: top;\n",
       "    }\n",
       "\n",
       "    .dataframe thead th {\n",
       "        text-align: right;\n",
       "    }\n",
       "</style>\n",
       "<table border=\"1\" class=\"dataframe\">\n",
       "  <thead>\n",
       "    <tr style=\"text-align: right;\">\n",
       "      <th></th>\n",
       "      <th>total_sales</th>\n",
       "    </tr>\n",
       "  </thead>\n",
       "  <tbody>\n",
       "    <tr>\n",
       "      <td>critic_score</td>\n",
       "      <td>0.41</td>\n",
       "    </tr>\n",
       "    <tr>\n",
       "      <td>user_score</td>\n",
       "      <td>-0.03</td>\n",
       "    </tr>\n",
       "  </tbody>\n",
       "</table>\n",
       "</div>"
      ],
      "text/plain": [
       "              total_sales\n",
       "critic_score         0.41\n",
       "user_score          -0.03"
      ]
     },
     "execution_count": 32,
     "metadata": {},
     "output_type": "execute_result"
    }
   ],
   "source": [
    "games[games['platform'] == 'PS4'].corr()[['total_sales']].drop(['year',\n",
    "                                                                'na_sales', \n",
    "                                                                'eu_sales',\n",
    "                                                                'jp_sales', \n",
    "                                                                'other_sales',\n",
    "                                                                'total_sales'])"
   ]
  },
  {
   "cell_type": "markdown",
   "metadata": {},
   "source": [
    "<div class=\"alert alert-danger\">\n",
    "<h2> Комментарий ревьюера</h2>\n",
    " \n",
    "В анализ попали нереальные данные -1. Именно по этой причине и не стоило заполнять пропуски отвлеченным значением. Слишком велика вероятность забыть исключить такие значения из анализа. \n",
    "\n",
    "</div>"
   ]
  },
  {
   "cell_type": "markdown",
   "metadata": {},
   "source": [
    "<div class=\"alert alert-info\">\n",
    "    <h2> Комментарий учащегося (НОВЫЙ)</h2>\n",
    "\n",
    "Исправил\n",
    "    \n",
    "</div>"
   ]
  },
  {
   "cell_type": "markdown",
   "metadata": {},
   "source": [
    "<div class=\"alert alert-success\">\n",
    "<h2> Комментарий ревьюера 2</h2>\n",
    "\n",
    "Все правильно. Заполнение пропусков приводило именно к этому результату. Теперь в анализе используются только реальные данные. \n",
    "\n",
    "</div>"
   ]
  },
  {
   "cell_type": "markdown",
   "metadata": {},
   "source": [
    "<div class=\"alert alert-info\">\n",
    "    <h2> Комментарий учащегося</h2>\n",
    "\n",
    "Исходя из диаграмм рассеивания и корреляции:\n",
    "- линейной зависимости между продажами и оценкой игр нет - k-корреляции несущественный\n",
    "- игра может получить хорошую оценку (как у критиков, так и у игроков), но продажи будут плохими\n",
    "- чем выше оценка у игры - тем у неё больше шансов хорошо продаваться (но это не означает что высокая оценка=большие продажи)\n",
    "- в отличии от оценок критиков (где у игр с низкой оценкой нет хороших продаж), у некоторых игр с посредственной оценкой от игроков были высокие продажи. Это можно объяснить тем, что игроки ждали игру (например очередную серию FIFA в которой по итогу поменяли только текстуры и люди разочаровались)\n",
    "    \n",
    "</div>"
   ]
  },
  {
   "cell_type": "code",
   "execution_count": 33,
   "metadata": {},
   "outputs": [],
   "source": [
    "platforms = ['X360', 'XOne', 'PS4', 'Wii', 'PS3', 'WiiU', '3DS']\n",
    "sales = 'total_sales'"
   ]
  },
  {
   "cell_type": "code",
   "execution_count": 34,
   "metadata": {},
   "outputs": [],
   "source": [
    "def get_corr(df, cols, sales):\n",
    "    df_final = pd.DataFrame()\n",
    "    \n",
    "    for col in cols:\n",
    "        \n",
    "        df_temp = df[df['platform'] == col][['total_sales', 'user_score', 'critic_score']].corr()[['total_sales']]\n",
    "        \n",
    "        df_temp.columns = [col]\n",
    "        \n",
    "        if df_final.shape[0] == 0:\n",
    "            df_final = df_temp.copy()\n",
    "        else:\n",
    "            df_final = df_final.merge(df_temp, left_index=True, right_index=True)\n",
    "        \n",
    "        \n",
    "\n",
    "    return df_final.drop('total_sales')"
   ]
  },
  {
   "cell_type": "code",
   "execution_count": 35,
   "metadata": {},
   "outputs": [
    {
     "data": {
      "text/html": [
       "<div>\n",
       "<style scoped>\n",
       "    .dataframe tbody tr th:only-of-type {\n",
       "        vertical-align: middle;\n",
       "    }\n",
       "\n",
       "    .dataframe tbody tr th {\n",
       "        vertical-align: top;\n",
       "    }\n",
       "\n",
       "    .dataframe thead th {\n",
       "        text-align: right;\n",
       "    }\n",
       "</style>\n",
       "<table border=\"1\" class=\"dataframe\">\n",
       "  <thead>\n",
       "    <tr style=\"text-align: right;\">\n",
       "      <th></th>\n",
       "      <th>X360</th>\n",
       "      <th>XOne</th>\n",
       "      <th>PS4</th>\n",
       "      <th>Wii</th>\n",
       "      <th>PS3</th>\n",
       "      <th>WiiU</th>\n",
       "      <th>3DS</th>\n",
       "    </tr>\n",
       "  </thead>\n",
       "  <tbody>\n",
       "    <tr>\n",
       "      <td>user_score</td>\n",
       "      <td>0.11</td>\n",
       "      <td>-0.07</td>\n",
       "      <td>-0.03</td>\n",
       "      <td>0.11</td>\n",
       "      <td>0.13</td>\n",
       "      <td>0.40</td>\n",
       "      <td>0.22</td>\n",
       "    </tr>\n",
       "    <tr>\n",
       "      <td>critic_score</td>\n",
       "      <td>0.39</td>\n",
       "      <td>0.42</td>\n",
       "      <td>0.41</td>\n",
       "      <td>0.18</td>\n",
       "      <td>0.43</td>\n",
       "      <td>0.35</td>\n",
       "      <td>0.35</td>\n",
       "    </tr>\n",
       "  </tbody>\n",
       "</table>\n",
       "</div>"
      ],
      "text/plain": [
       "              X360  XOne   PS4  Wii  PS3  WiiU  3DS\n",
       "user_score    0.11 -0.07 -0.03 0.11 0.13  0.40 0.22\n",
       "critic_score  0.39  0.42  0.41 0.18 0.43  0.35 0.35"
      ]
     },
     "execution_count": 35,
     "metadata": {},
     "output_type": "execute_result"
    }
   ],
   "source": [
    "get_corr(games, platforms, sales)"
   ]
  },
  {
   "cell_type": "code",
   "execution_count": 36,
   "metadata": {},
   "outputs": [
    {
     "data": {
      "text/html": [
       "<div>\n",
       "<style scoped>\n",
       "    .dataframe tbody tr th:only-of-type {\n",
       "        vertical-align: middle;\n",
       "    }\n",
       "\n",
       "    .dataframe tbody tr th {\n",
       "        vertical-align: top;\n",
       "    }\n",
       "\n",
       "    .dataframe thead th {\n",
       "        text-align: right;\n",
       "    }\n",
       "</style>\n",
       "<table border=\"1\" class=\"dataframe\">\n",
       "  <thead>\n",
       "    <tr style=\"text-align: right;\">\n",
       "      <th></th>\n",
       "      <th>X360</th>\n",
       "      <th>XOne</th>\n",
       "      <th>PS4</th>\n",
       "      <th>Wii</th>\n",
       "      <th>PS3</th>\n",
       "      <th>WiiU</th>\n",
       "      <th>3DS</th>\n",
       "    </tr>\n",
       "  </thead>\n",
       "  <tbody>\n",
       "    <tr>\n",
       "      <td>mean</td>\n",
       "      <td>0.25</td>\n",
       "      <td>0.17</td>\n",
       "      <td>0.19</td>\n",
       "      <td>0.14</td>\n",
       "      <td>0.28</td>\n",
       "      <td>0.37</td>\n",
       "      <td>0.29</td>\n",
       "    </tr>\n",
       "    <tr>\n",
       "      <td>std</td>\n",
       "      <td>0.20</td>\n",
       "      <td>0.34</td>\n",
       "      <td>0.31</td>\n",
       "      <td>0.05</td>\n",
       "      <td>0.22</td>\n",
       "      <td>0.04</td>\n",
       "      <td>0.09</td>\n",
       "    </tr>\n",
       "    <tr>\n",
       "      <td>min</td>\n",
       "      <td>0.11</td>\n",
       "      <td>-0.07</td>\n",
       "      <td>-0.03</td>\n",
       "      <td>0.11</td>\n",
       "      <td>0.13</td>\n",
       "      <td>0.35</td>\n",
       "      <td>0.22</td>\n",
       "    </tr>\n",
       "    <tr>\n",
       "      <td>25%</td>\n",
       "      <td>0.18</td>\n",
       "      <td>0.05</td>\n",
       "      <td>0.08</td>\n",
       "      <td>0.13</td>\n",
       "      <td>0.20</td>\n",
       "      <td>0.36</td>\n",
       "      <td>0.26</td>\n",
       "    </tr>\n",
       "    <tr>\n",
       "      <td>50%</td>\n",
       "      <td>0.25</td>\n",
       "      <td>0.17</td>\n",
       "      <td>0.19</td>\n",
       "      <td>0.14</td>\n",
       "      <td>0.28</td>\n",
       "      <td>0.37</td>\n",
       "      <td>0.29</td>\n",
       "    </tr>\n",
       "    <tr>\n",
       "      <td>75%</td>\n",
       "      <td>0.32</td>\n",
       "      <td>0.30</td>\n",
       "      <td>0.30</td>\n",
       "      <td>0.16</td>\n",
       "      <td>0.36</td>\n",
       "      <td>0.39</td>\n",
       "      <td>0.32</td>\n",
       "    </tr>\n",
       "    <tr>\n",
       "      <td>max</td>\n",
       "      <td>0.39</td>\n",
       "      <td>0.42</td>\n",
       "      <td>0.41</td>\n",
       "      <td>0.18</td>\n",
       "      <td>0.43</td>\n",
       "      <td>0.40</td>\n",
       "      <td>0.35</td>\n",
       "    </tr>\n",
       "  </tbody>\n",
       "</table>\n",
       "</div>"
      ],
      "text/plain": [
       "      X360  XOne   PS4  Wii  PS3  WiiU  3DS\n",
       "mean  0.25  0.17  0.19 0.14 0.28  0.37 0.29\n",
       "std   0.20  0.34  0.31 0.05 0.22  0.04 0.09\n",
       "min   0.11 -0.07 -0.03 0.11 0.13  0.35 0.22\n",
       "25%   0.18  0.05  0.08 0.13 0.20  0.36 0.26\n",
       "50%   0.25  0.17  0.19 0.14 0.28  0.37 0.29\n",
       "75%   0.32  0.30  0.30 0.16 0.36  0.39 0.32\n",
       "max   0.39  0.42  0.41 0.18 0.43  0.40 0.35"
      ]
     },
     "execution_count": 36,
     "metadata": {},
     "output_type": "execute_result"
    }
   ],
   "source": [
    "get_corr(games, platforms, sales).describe().drop('count')"
   ]
  },
  {
   "cell_type": "markdown",
   "metadata": {},
   "source": [
    "<div class=\"alert alert-info\">\n",
    "    <h2> Комментарий учащегося</h2>\n",
    "\n",
    "Корреляция влияния оценок критиков и игроков говорит о следующем:\n",
    "- оценки критиков оказывают больше влияние на продажи, чем оценки пользователей\n",
    "- на \"новых\" платформах (<b>XOne</b> и <b>PS4</b>) пользователи еще не до конца определились с оценками\n",
    "- оценки оказывают несущественное влияние на продажи\n",
    "- в общем и целом показатели как по топ-платформе так и по другим платформам идентичны и не оказывают существенного влияния на продажи\n",
    "    \n",
    "</div>"
   ]
  },
  {
   "cell_type": "markdown",
   "metadata": {},
   "source": [
    "<div class=\"alert alert-warning\">\n",
    "<h2> Комментарий ревьюера</h2>\n",
    " \n",
    "Посмотри на результаты без значений -1 в анализируемых выборках.\n",
    "\n",
    "</div>"
   ]
  },
  {
   "cell_type": "markdown",
   "metadata": {},
   "source": [
    "<div class=\"alert alert-info\">\n",
    "    <h2> Комментарий учащегося (НОВЫЙ)</h2>\n",
    "\n",
    "Без заполнения нан-ов данные координально изменились - для новых платформ (PS4, XOne) оценка игроков стала отрицательной - это означает что игроки ещё толком не распробовали платформу и нормальных отзывов очень мало (либо их вообще нет).\n",
    "    \n",
    "Остальные платформы (за исключением китайского WiiU) остались без изменений\n",
    "    \n",
    "</div>"
   ]
  },
  {
   "cell_type": "code",
   "execution_count": 37,
   "metadata": {
    "scrolled": false
   },
   "outputs": [
    {
     "data": {
      "image/png": "[encoded data removed]",
      "text/plain": [
       "<Figure size 1080x360 with 2 Axes>"
      ]
     },
     "metadata": {
      "needs_background": "light"
     },
     "output_type": "display_data"
    }
   ],
   "source": [
    "#ax = plt.gca()\n",
    "\n",
    "fig, ax_f = plt.subplots()\n",
    "ax_c = ax_f.twinx()\n",
    "\n",
    "pivot_table = games.groupby('genre').agg({'name': 'count', \n",
    "                                          'total_sales': 'sum'}).sort_values(by='name', ascending=False)\n",
    "\n",
    "p1 = pivot_table['name']\n",
    "p1.plot(kind='bar', figsize=(15,5), ec='black', ax=ax_c, width=0.2, position=1)\n",
    "\n",
    "p2 = pivot_table['total_sales']\n",
    "p2.plot(kind='bar', figsize=(15,5), ec='black', ax=ax_f, width=0.2, color='grey', position=0)\n",
    "\n",
    "ax_f.set_title('Две величины: Продано млн. копий + количество игр', fontsize=20)\n",
    "ax_f.set_ylabel('Продано млн. копи', fontsize=15)\n",
    "ax_c.set_ylabel('Количество игр', fontsize=15)\n",
    "#ax.legend(['Проданных копий', 'Общая сумма продаж'])\n",
    "\n",
    "plt.show()"
   ]
  },
  {
   "cell_type": "markdown",
   "metadata": {},
   "source": [
    "<div class=\"alert alert-warning\">\n",
    "<h2> Комментарий ревьюера</h2>\n",
    " \n",
    "Не стоит на одном графике приводить число продаж и выручку. Эти параметры измеряются в разных величинах.\n",
    "\n",
    "</div>"
   ]
  },
  {
   "cell_type": "markdown",
   "metadata": {},
   "source": [
    "<div class=\"alert alert-info\">\n",
    "    <h2> Комментарий учащегося (НОВЫЙ)</h2>\n",
    "\n",
    "Данные выведены на одном графике для наглядности, я же не сравниваю эти величины \\ не ищу зависимости одного от другого, так просто удобнее чем на 2-ух разных графиках.\n",
    "\n",
    "    \n",
    "</div>"
   ]
  },
  {
   "cell_type": "markdown",
   "metadata": {},
   "source": [
    "<div class=\"alert alert-success\">\n",
    "<h2> Комментарий ревьюера 2</h2>\n",
    "\n",
    "Лучше тогда использовать вторую ось Y. В эт ом тебе поможет метод twinx(). Не совсем верно на одной оси указывать 2 совершенно разных параметра, пусть ты их и не сравниваешь между собой. \n",
    "\n",
    "</div>"
   ]
  },
  {
   "cell_type": "markdown",
   "metadata": {},
   "source": [
    "<div class=\"alert alert-info\">\n",
    "    <h2> Комментарий учащегося 3</h2>\n",
    "\n",
    "Спасибо, добавил\n",
    "\n",
    "    \n",
    "</div>"
   ]
  },
  {
   "cell_type": "markdown",
   "metadata": {},
   "source": [
    "<div class=\"alert alert-success\">\n",
    "<h2> Комментарий ревьюера 3</h2>\n",
    "\n",
    "Отлично, так вопросов по оформлению данного графика к тебе точно не будет. \n",
    "\n",
    "</div>"
   ]
  },
  {
   "cell_type": "markdown",
   "metadata": {},
   "source": [
    "<div class=\"alert alert-info\">\n",
    "    <h2> Комментарий учащегося</h2>\n",
    "\n",
    "Из графика выше:\n",
    "- больше всего продано игр жанра <b>Action</b>\n",
    "- второе-третье места занимают игры спортивного жанра и игры \"смешанного\" жанра - <b>Miscellaneous</b>\n",
    "- хуже всего дела обстоят у стратегий и паззлов (головоломок)\n",
    "- по сумме продаж также лидируют игры жанра <b>Action</b> и спорт\n",
    "- шутеры на третьем месте по выручке\n",
    "- хуже всего по деньгам у стратегий, пазлов и приключений\n",
    "    \n",
    "    \n",
    "Немаловажную роль в данном распределении играет плафторма - например стратегии это в 90% (цифра взята от балды, но должна быть близка к истине) <b>PC</b>, что означает возможность пользователей скачать пиратскую версию, в то время как на консолях с этим намного сложнее.\n",
    "\n",
    "    \n",
    "</div>"
   ]
  },
  {
   "cell_type": "markdown",
   "metadata": {},
   "source": [
    "<div class=\"alert alert-success\">\n",
    "<h2> Комментарий ревьюера </h2>\n",
    "\n",
    "Анализ популярности жанров проведен. Однако не стоит забывать, что производство игр в жанрах Action или Shooter обходится сильно дороже, чем производство Puzzle-игр. \n",
    "\n",
    "</div>"
   ]
  },
  {
   "cell_type": "markdown",
   "metadata": {},
   "source": [
    "## 4. Составьте портрет пользователя для каждого региона"
   ]
  },
  {
   "cell_type": "code",
   "execution_count": 38,
   "metadata": {},
   "outputs": [],
   "source": [
    "def region_analysis(df, cols, regions, kind='bar', rotate=70):\n",
    "    dc = {'na_sales': None, 'eu_sales': 'darkred', 'jp_sales': 'darkgreen'}\n",
    "    dt = {\n",
    "            1:\n",
    "                {\n",
    "                    'na_sales': 'Продажи в Северной Америке', \n",
    "                    'eu_sales': 'Продажи в Европе', \n",
    "                    'jp_sales': 'Продажи в Японии'\n",
    "                },\n",
    "            2:\n",
    "                {\n",
    "                    'na_sales': 'Жанры в Северной Америке', \n",
    "                    'eu_sales': 'Жанры в Европе', \n",
    "                    'jp_sales': 'Жанры в Японии'\n",
    "                },\n",
    "            3:\n",
    "                {\n",
    "                    'na_sales': 'Рейтинг в Северной Америке', \n",
    "                    'eu_sales': 'Рейтинг в Европе', \n",
    "                    'jp_sales': 'Рейтинг в Японии'\n",
    "                }\n",
    "    }    \n",
    "    \n",
    "    i = 0\n",
    "    for col in cols:\n",
    "        j = 0\n",
    "        for region in regions:\n",
    "            df_temp = df.groupby(col).agg({region: 'sum'}).sort_values(by=region)\n",
    "            df_temp = df_temp.tail()\n",
    "\n",
    "            plot = df_temp.plot(kind=kind,\n",
    "                                ax=axes[i, j], \n",
    "                                fontsize=18, \n",
    "                                rot=rotate,\n",
    "                                color=dc[region],\n",
    "                                title=dt[i+1][region]\n",
    "                                )\n",
    "            plot.legend([region], prop={'size': 20})\n",
    "            plot.set_xlabel('')\n",
    "            plot.title.set_size(25)\n",
    "\n",
    "            j += 1\n",
    "            \n",
    "        i += 1\n"
   ]
  },
  {
   "cell_type": "code",
   "execution_count": 39,
   "metadata": {
    "scrolled": false
   },
   "outputs": [
    {
     "data": {
      "image/png": "[encoded data removed]",
      "text/plain": [
       "<Figure size 1800x2736 with 9 Axes>"
      ]
     },
     "metadata": {
      "needs_background": "light"
     },
     "output_type": "display_data"
    }
   ],
   "source": [
    "regions = ['na_sales', 'eu_sales', 'jp_sales']\n",
    "cols = ['platform', 'genre', 'description']\n",
    "fig, axes = plt.subplots(3, 3, figsize=(25,38))\n",
    "\n",
    "region_analysis(actual_games.fillna({'description': 'Жанр не указан'}), cols, regions)"
   ]
  },
  {
   "cell_type": "code",
   "execution_count": 40,
   "metadata": {},
   "outputs": [
    {
     "data": {
      "image/png": "[encoded data removed]",
      "text/plain": [
       "<Figure size 1800x2736 with 9 Axes>"
      ]
     },
     "metadata": {
      "needs_background": "light"
     },
     "output_type": "display_data"
    }
   ],
   "source": [
    "regions = ['na_sales', 'eu_sales', 'jp_sales']\n",
    "cols = ['platform', 'genre', 'description']\n",
    "fig, axes = plt.subplots(3, 3, figsize=(25,38))\n",
    "\n",
    "region_analysis(actual_games.fillna({'description': 'Жанр не указан'}), cols, regions, 'barh', None)"
   ]
  },
  {
   "cell_type": "markdown",
   "metadata": {},
   "source": [
    "<div class=\"alert alert-success\">\n",
    "<h2> Комментарий ревьюера</h2>\n",
    "\n",
    "Графики лучше сделать горизонтальными. Так не придется поворачивать названия по ретингу или жанру. \n",
    "    \n",
    "</div>"
   ]
  },
  {
   "cell_type": "markdown",
   "metadata": {},
   "source": [
    "<div class=\"alert alert-info\">\n",
    "    <h2> Комментарий учащегося (НОВЫЙ)</h2>\n",
    "\n",
    "Повернул, но мне вертикальные больше нравятся  \n",
    "    \n",
    "</div>"
   ]
  },
  {
   "cell_type": "markdown",
   "metadata": {},
   "source": [
    "<div class=\"alert alert-success\">\n",
    "<h2> Комментарий ревьюера 2</h2>\n",
    "\n",
    "Зато так подписи осей в более привычном формате. Читать их удобнее. Если не нравится так, то верни вертикальный вид. Все же это твой проект. \n",
    "\n",
    "</div>"
   ]
  },
  {
   "cell_type": "markdown",
   "metadata": {},
   "source": [
    "<div class=\"alert alert-info\">\n",
    "    <h2> Комментарий учащегося</h2>\n",
    "\n",
    "Из графиков выше мы видим что портрет игрока из Северной Америки схож с портретом игрока из Европы, в то время как в Японии люди играют совсем в другие игры (скорее всего это связано с менталитетом - тут большее предпочтение отдается локальным производителям местных приставок)\n",
    "    \n",
    "Итак, по пунктам, Европа + СА:\n",
    "- наиболее популярными игровыми платформами являются X360, PS3 и PS4\n",
    "- самые популярные жанры - Action, Shooter и Sports\n",
    "- игры с рейтингом \"От 17 лет\" на 1-ом месте по продажам, далее идёт рейтинг \"Для всех\" и \"Старше 10 лет\"\n",
    "    \n",
    "Япония:\n",
    "- наиболее популярными платформами являются 3DS, PS3, PSV\n",
    "- японцы предпочитают ролевые игры, Action, а так же смесь жанров (Misc)\n",
    "- наиболее популярными являются игры без возрастного рейтинга, а так же игры для подростков\n",
    "\n",
    "    \n",
    "PS. данные для анализа я взял актуальные - т.е. начиная с 2012 года.    \n",
    "    \n",
    "</div>"
   ]
  },
  {
   "cell_type": "markdown",
   "metadata": {},
   "source": [
    "<div class=\"alert alert-danger\">\n",
    "<h2> Комментарий ревьюера</h2>\n",
    "\n",
    "Обрати внимание - ты не учитываешь игры без рейтинга. В результате огромная часть игр просто выпадает из анализа. Найди способ учесть их при группировке значений по рейтингу.\n",
    "    \n",
    "</div>"
   ]
  },
  {
   "cell_type": "markdown",
   "metadata": {},
   "source": [
    "<div class=\"alert alert-info\">\n",
    "    <h2> Комментарий учащегося</h2>\n",
    "\n",
    "regions = ['na_sales', 'eu_sales', 'jp_sales'] <br>\n",
    "cols = ['platform', 'genre', 'description'] <br>\n",
    "df_temp = df.groupby(col).agg({region: 'sum'}).sort_values(by=region) <br>\n",
    "    \n",
    "    \n",
    "Здесь нет группировки по рейтингу, если имеется ввиду три последних графика - там от рейтинга только название, это же \"описание\" так же в простонародье именуемое \"рейтинг игры\", например \"18+\", \"Для детей\" и т.д.\n",
    "    \n",
    "</div>\n",
    "\n",
    "\n"
   ]
  },
  {
   "cell_type": "markdown",
   "metadata": {},
   "source": [
    "<div class=\"alert alert-danger\">\n",
    "<h2> Комментарий ревьюера 2</h2>\n",
    "\n",
    "А описание рейтинга - это не рейтинг? Смотри, выше ты смотришь, какая зависимость продаж от рейтинга. Но нам надо сначала установить, есть ли эта зависимость вообще. Поэтому игры без рейтинга также стоит учесть в анализе. Заполни рейтинг значением по типу \"Нет рейтинга\" и включи данную группу в анализ. \n",
    "\n",
    "</div>"
   ]
  },
  {
   "cell_type": "markdown",
   "metadata": {},
   "source": [
    "<div class=\"alert alert-info\">\n",
    "    <h2> Комментарий учащегося 3</h2>\n",
    "\n",
    "Понял-добавил. Теперь видно что данные по Японии очень сырые и нужно парсить жанры игр - это явная недоработка со стороны, предоставлюящей данные\n",
    "    \n",
    "</div>"
   ]
  },
  {
   "cell_type": "markdown",
   "metadata": {},
   "source": [
    "<div class=\"alert alert-success\">\n",
    "<h2> Комментарий ревьюера 3</h2>\n",
    "\n",
    "Не факт. ESRB просто может не проставлять рейтинг таким играм. Американская организация не обязана проставлять рейтинг играм, которые выпускаются только в Японии. \n",
    "\n",
    "</div>"
   ]
  },
  {
   "cell_type": "markdown",
   "metadata": {},
   "source": [
    "## Шаг 5. Проверьте гипотезы\n",
    "\n",
    "- Средние пользовательские рейтинги платформ Xbox One и PC одинаковые;\n",
    "- Средние пользовательские рейтинги жанров Action (англ. «действие», экшен-игры) и Sports (англ. «спортивные соревнования») разные.\n",
    "\n",
    "\n",
    "- Для проверки обеих гипотез будем использовать t-критерий Стьюдента, т.к. в обоих случаях выборки независимы между собой.\n",
    "\n",
    "\n",
    "Определим пороговое значение alpha = 0.05"
   ]
  },
  {
   "cell_type": "markdown",
   "metadata": {},
   "source": [
    "5.1. Гипотеза № 1:\n",
    "Cредние пользовательские рейтинги платформ Xbox One и PC одинаковые.\n",
    "\n",
    "- Н0 (нулевая гипотеза) - средние пользовательские рейтинги платформ Xbox One и PC одинаковые.\n",
    "- Н1 (альтернативная гипотеза) - средние пользовательские рейтинги платформ Xbox One и PC отличаются между собой.\n"
   ]
  },
  {
   "cell_type": "markdown",
   "metadata": {},
   "source": [
    "<div class=\"alert alert-success\">\n",
    "<h2> Комментарий ревьюера </h2>\n",
    "\n",
    "При оставлении пропусков в данных мы можем и не проводить фильтрацию от значений -1.\n",
    "\n",
    "</div>"
   ]
  },
  {
   "cell_type": "code",
   "execution_count": 41,
   "metadata": {},
   "outputs": [
    {
     "data": {
      "text/html": [
       "<div>\n",
       "<style scoped>\n",
       "    .dataframe tbody tr th:only-of-type {\n",
       "        vertical-align: middle;\n",
       "    }\n",
       "\n",
       "    .dataframe tbody tr th {\n",
       "        vertical-align: top;\n",
       "    }\n",
       "\n",
       "    .dataframe thead th {\n",
       "        text-align: right;\n",
       "    }\n",
       "</style>\n",
       "<table border=\"1\" class=\"dataframe\">\n",
       "  <thead>\n",
       "    <tr style=\"text-align: right;\">\n",
       "      <th></th>\n",
       "      <th>user_score</th>\n",
       "    </tr>\n",
       "    <tr>\n",
       "      <th>platform</th>\n",
       "      <th></th>\n",
       "    </tr>\n",
       "  </thead>\n",
       "  <tbody>\n",
       "    <tr>\n",
       "      <td>PC</td>\n",
       "      <td>2.77</td>\n",
       "    </tr>\n",
       "    <tr>\n",
       "      <td>XOne</td>\n",
       "      <td>1.91</td>\n",
       "    </tr>\n",
       "  </tbody>\n",
       "</table>\n",
       "</div>"
      ],
      "text/plain": [
       "          user_score\n",
       "platform            \n",
       "PC              2.77\n",
       "XOne            1.91"
      ]
     },
     "execution_count": 41,
     "metadata": {},
     "output_type": "execute_result"
    }
   ],
   "source": [
    "platform_list = ['XOne', 'PC']\n",
    "var = actual_games.query('platform == @platform_list').pivot_table(index='platform', values='user_score', aggfunc='var')\n",
    "var"
   ]
  },
  {
   "cell_type": "code",
   "execution_count": 42,
   "metadata": {},
   "outputs": [
    {
     "data": {
      "text/html": [
       "<div>\n",
       "<style scoped>\n",
       "    .dataframe tbody tr th:only-of-type {\n",
       "        vertical-align: middle;\n",
       "    }\n",
       "\n",
       "    .dataframe tbody tr th {\n",
       "        vertical-align: top;\n",
       "    }\n",
       "\n",
       "    .dataframe thead th {\n",
       "        text-align: right;\n",
       "    }\n",
       "</style>\n",
       "<table border=\"1\" class=\"dataframe\">\n",
       "  <thead>\n",
       "    <tr style=\"text-align: right;\">\n",
       "      <th></th>\n",
       "      <th>user_score</th>\n",
       "    </tr>\n",
       "    <tr>\n",
       "      <th>platform</th>\n",
       "      <th></th>\n",
       "    </tr>\n",
       "  </thead>\n",
       "  <tbody>\n",
       "    <tr>\n",
       "      <td>PC</td>\n",
       "      <td>2.34</td>\n",
       "    </tr>\n",
       "    <tr>\n",
       "      <td>XOne</td>\n",
       "      <td>1.91</td>\n",
       "    </tr>\n",
       "  </tbody>\n",
       "</table>\n",
       "</div>"
      ],
      "text/plain": [
       "          user_score\n",
       "platform            \n",
       "PC              2.34\n",
       "XOne            1.91"
      ]
     },
     "execution_count": 42,
     "metadata": {},
     "output_type": "execute_result"
    }
   ],
   "source": [
    "var2 = games.query('platform == @platform_list').pivot_table(index='platform', values='user_score', aggfunc='var')\n",
    "var2"
   ]
  },
  {
   "cell_type": "markdown",
   "metadata": {},
   "source": [
    "\n",
    "\n",
    "<div class=\"alert alert-info\">\n",
    "    <h2> Комментарий учащегося 3</h2>\n",
    "\n",
    "Диссперсии нельзя считать равными поэтому <b>\"equal_var = False\"</b>\n",
    "    \n",
    "</div>"
   ]
  },
  {
   "cell_type": "code",
   "execution_count": 43,
   "metadata": {},
   "outputs": [],
   "source": [
    "def test_hypotesys(df, fltr, col1, col2, rating, var, a=0.05):\n",
    "    df1 = df[(df[fltr] == col1) & (df[rating] > 0)][rating]\n",
    "    df2 = df[(df[fltr] == col2) & (df[rating] > 0)][rating]\n",
    "\n",
    "    alpha = a\n",
    "    \n",
    "    results = st.ttest_ind(df1, df2, equal_var=var)\n",
    "\n",
    "    print('p-значение:', results.pvalue)\n",
    "\n",
    "\n",
    "    if (results.pvalue < alpha):\n",
    "        print(\"Отвергаем нулевую гипотезу\")\n",
    "    else:\n",
    "        print(\"Не получилось отвергнуть нулевую гипотезу\")\n"
   ]
  },
  {
   "cell_type": "code",
   "execution_count": 44,
   "metadata": {},
   "outputs": [
    {
     "name": "stdout",
     "output_type": "stream",
     "text": [
      "Тестируем с 2012 года:\n",
      "p-значение: 0.5489537965134912\n",
      "Не получилось отвергнуть нулевую гипотезу\n",
      "\n",
      "Тестируем за всё время:\n",
      "p-значение: 4.935072360183565e-06\n",
      "Отвергаем нулевую гипотезу\n"
     ]
    }
   ],
   "source": [
    "print('Тестируем с 2012 года:')\n",
    "test_hypotesys(actual_games, 'platform', 'XOne', 'PC', 'user_score', var=False)\n",
    "print()\n",
    "print('Тестируем за всё время:')\n",
    "test_hypotesys(games, 'platform', 'XOne', 'PC', 'user_score', var=False)"
   ]
  },
  {
   "cell_type": "markdown",
   "metadata": {},
   "source": [
    "<div class=\"alert alert-info\">\n",
    "    <h2> Комментарий учащегося</h2>\n",
    "\n",
    "Получается что начиная с 2012 года пользовательские рейтинги для <b>PC</b> и <b>XOne</b> выровнялись, в то время как за весь предоставленный период рейтинги отличаются (ясное дело, сколько лет PC и сколько XOne).\n",
    "    \n",
    "</div>"
   ]
  },
  {
   "cell_type": "markdown",
   "metadata": {},
   "source": [
    "<div class=\"alert alert-success\">\n",
    "<h2> Комментарий ревьюера </h2>\n",
    "\n",
    "Гипотезы сформулированы и проверены верно.\n",
    "\n",
    "</div>"
   ]
  },
  {
   "cell_type": "markdown",
   "metadata": {},
   "source": [
    "5.2. Гипотеза № 2:\n",
    "Средние пользовательские рейтинги жанров Action (англ. «действие», экшен-игры) и Sports (англ. «спортивные соревнования») разные.\n",
    "\n",
    "- Н0 (нулевая гипотеза) - средние пользовательские рейтинги жанров Action и Sports одинаковые.\n",
    "- Н1 (альтернативная гипотеза) - средние пользовательские рейтинги жанров Action и Sports разные."
   ]
  },
  {
   "cell_type": "code",
   "execution_count": 45,
   "metadata": {},
   "outputs": [
    {
     "data": {
      "text/html": [
       "<div>\n",
       "<style scoped>\n",
       "    .dataframe tbody tr th:only-of-type {\n",
       "        vertical-align: middle;\n",
       "    }\n",
       "\n",
       "    .dataframe tbody tr th {\n",
       "        vertical-align: top;\n",
       "    }\n",
       "\n",
       "    .dataframe thead th {\n",
       "        text-align: right;\n",
       "    }\n",
       "</style>\n",
       "<table border=\"1\" class=\"dataframe\">\n",
       "  <thead>\n",
       "    <tr style=\"text-align: right;\">\n",
       "      <th></th>\n",
       "      <th>user_score</th>\n",
       "    </tr>\n",
       "    <tr>\n",
       "      <th>genre</th>\n",
       "      <th></th>\n",
       "    </tr>\n",
       "  </thead>\n",
       "  <tbody>\n",
       "    <tr>\n",
       "      <td>Action</td>\n",
       "      <td>1.89</td>\n",
       "    </tr>\n",
       "    <tr>\n",
       "      <td>Sports</td>\n",
       "      <td>3.02</td>\n",
       "    </tr>\n",
       "  </tbody>\n",
       "</table>\n",
       "</div>"
      ],
      "text/plain": [
       "        user_score\n",
       "genre             \n",
       "Action        1.89\n",
       "Sports        3.02"
      ]
     },
     "execution_count": 45,
     "metadata": {},
     "output_type": "execute_result"
    }
   ],
   "source": [
    "genre_list = ['Action', 'Sports']\n",
    "var3 = actual_games.query('genre == @genre_list').pivot_table(index='genre', values='user_score', aggfunc='var')\n",
    "var3"
   ]
  },
  {
   "cell_type": "code",
   "execution_count": 46,
   "metadata": {},
   "outputs": [
    {
     "data": {
      "text/html": [
       "<div>\n",
       "<style scoped>\n",
       "    .dataframe tbody tr th:only-of-type {\n",
       "        vertical-align: middle;\n",
       "    }\n",
       "\n",
       "    .dataframe tbody tr th {\n",
       "        vertical-align: top;\n",
       "    }\n",
       "\n",
       "    .dataframe thead th {\n",
       "        text-align: right;\n",
       "    }\n",
       "</style>\n",
       "<table border=\"1\" class=\"dataframe\">\n",
       "  <thead>\n",
       "    <tr style=\"text-align: right;\">\n",
       "      <th></th>\n",
       "      <th>user_score</th>\n",
       "    </tr>\n",
       "    <tr>\n",
       "      <th>genre</th>\n",
       "      <th></th>\n",
       "    </tr>\n",
       "  </thead>\n",
       "  <tbody>\n",
       "    <tr>\n",
       "      <td>Action</td>\n",
       "      <td>2.03</td>\n",
       "    </tr>\n",
       "    <tr>\n",
       "      <td>Sports</td>\n",
       "      <td>2.60</td>\n",
       "    </tr>\n",
       "  </tbody>\n",
       "</table>\n",
       "</div>"
      ],
      "text/plain": [
       "        user_score\n",
       "genre             \n",
       "Action        2.03\n",
       "Sports        2.60"
      ]
     },
     "execution_count": 46,
     "metadata": {},
     "output_type": "execute_result"
    }
   ],
   "source": [
    "genre_list = ['Action', 'Sports']\n",
    "var3 = games.query('genre == @genre_list').pivot_table(index='genre', values='user_score', aggfunc='var')\n",
    "var3"
   ]
  },
  {
   "cell_type": "markdown",
   "metadata": {},
   "source": [
    "<div class=\"alert alert-info\">\n",
    "    <h2> Комментарий учащегося 4</h2>\n",
    "\n",
    "Здесь так же диссперсии нельзя считать равными поэтому <b>\"equal_var = False\"</b>\n",
    "    \n",
    "</div>"
   ]
  },
  {
   "cell_type": "markdown",
   "metadata": {},
   "source": [
    "<div class=\"alert alert-success\">\n",
    "<h2> Комментарий ревьюера 3</h2>\n",
    "\n",
    "Дисперсии во всех тестах сравнены, параметр equal_var уточнен. Так мы повышаем точность проводимого теста. \n",
    "\n",
    "</div>"
   ]
  },
  {
   "cell_type": "code",
   "execution_count": 47,
   "metadata": {},
   "outputs": [
    {
     "name": "stdout",
     "output_type": "stream",
     "text": [
      "Тестируем с 2012 года:\n",
      "p-значение: 4.24307776572644e-20\n",
      "Отвергаем нулевую гипотезу\n",
      "\n",
      "Тестируем за всё время:\n",
      "p-значение: 0.11483818791498286\n",
      "Не получилось отвергнуть нулевую гипотезу\n"
     ]
    }
   ],
   "source": [
    "print('Тестируем с 2012 года:')\n",
    "test_hypotesys(actual_games, 'genre', 'Action', 'Sports', 'user_score', var=False)\n",
    "print()\n",
    "print('Тестируем за всё время:')\n",
    "test_hypotesys(games, 'genre', 'Action', 'Sports', 'user_score', var=False)"
   ]
  },
  {
   "cell_type": "markdown",
   "metadata": {},
   "source": [
    "<div class=\"alert alert-danger\">\n",
    "<h2> Комментарий ревьюера </h2>\n",
    "\n",
    "Нулевая гипотеза всегда формируется с учетом знака равенства. Не стоит использовать параметр same в твоей функции и изменять стандартные правила формулировок. Две ошибки, приводящие к верному результату остаются 2 ошибками. \n",
    "\n",
    "</div>"
   ]
  },
  {
   "cell_type": "markdown",
   "metadata": {},
   "source": [
    "<div class=\"alert alert-info\">\n",
    "    <h2> Комментарий учащегося</h2>\n",
    "\n",
    "Исправил\n",
    "    \n",
    "</div>"
   ]
  },
  {
   "cell_type": "markdown",
   "metadata": {},
   "source": [
    "<div class=\"alert alert-success\">\n",
    "<h2> Комментарий ревьюера 2</h2>\n",
    "\n",
    "Теперь все правильно с формулировками. \n",
    "\n",
    "</div>"
   ]
  },
  {
   "cell_type": "markdown",
   "metadata": {},
   "source": [
    "<div class=\"alert alert-info\">\n",
    "    <h2> Комментарий учащегося</h2>\n",
    "\n",
    "Получается что начиная с 2012 года пользовательские рейтинги для <b>Action</b> и <b>Sports</b> различаются, в то время как за всё время они являются идентичными.\n",
    "    \n",
    "</div>"
   ]
  },
  {
   "cell_type": "markdown",
   "metadata": {},
   "source": [
    "<div class=\"alert alert-danger\">\n",
    "<h2> Комментарий ревьюера </h2>\n",
    "\n",
    "Прежде чем произвести проверку гипотезы через T-критерий Стьюдента произведи проверку дисперсии выборок, чтобы понять с каким параметром использовать метод проверки.\n",
    "\n",
    "</div>"
   ]
  },
  {
   "cell_type": "markdown",
   "metadata": {},
   "source": [
    "<div class=\"alert alert-info\">\n",
    "    <h2> Комментарий учащегося (НОВЫЙ)</h2>\n",
    "\n",
    "Диспресию посчитал и... А дальше как понять\\задать значение <b>alpha</b> - не знаю. В теории не нашел (вот что в теории - <u>Уровень значимости — это суммарная вероятность того, что измеренное эмпирически значение окажется далеко от среднего. На графике уровень значимости — 5%, по 2.5% с каждой стороны. Но аналитик может выбрать и уровень в 1% или даже 0.01%.</u>), везде пишут что 5% это общепринятое значение.\n",
    "    \n",
    "<br> <br>   \n",
    "В общем особо полезной информации не нашел, буду признателен за пояснение как связать диспрсию и значение alpha.\n",
    "    \n",
    "</div>"
   ]
  },
  {
   "cell_type": "markdown",
   "metadata": {},
   "source": [
    "<div class=\"alert alert-danger\">\n",
    "<h2> Комментарий ревьюера 2</h2>\n",
    "\n",
    "Дисперсия на выбор alpha не влияет. Смотри, у Т-теста есть параметр equal_var, отвечающий за равенство дисперсий. Именно он нам и нужен. Выстави его в True или False в зависимости от результата сравнения дисперсий анализируемых выборок. Это позволит нам увеличить точность проводимого теста. \n",
    "\n",
    "</div>"
   ]
  },
  {
   "cell_type": "markdown",
   "metadata": {},
   "source": [
    "<div class=\"alert alert-success\">\n",
    "<h2> Комментарий ревьюера </h2>\n",
    "\n",
    "Здорово, что ты проверил гипотезы и по актуальныи данным и по всем. Как думаешь, почему мы получаем разные результаты при анализе разных периодов?\n",
    "\n",
    "</div>"
   ]
  },
  {
   "cell_type": "markdown",
   "metadata": {},
   "source": [
    "<div class=\"alert alert-info\">\n",
    "    <h2> Комментарий учащегося (НОВЫЙ)</h2>\n",
    "\n",
    "Разный результат получается потому что данных намного больше, например изначально PC был практически единственной игровой платформой и все игры выходили на нем (по нашим данным жизненный путь PC это 31 год), в то время как Хбокс вышел сравнительно недавно (3 года), соответственно если сравнивать PC и XOne за всё время или на небольшом 4-х летнем промежутке - мы получаем разные результаты.\n",
    "    \n",
    "</div>"
   ]
  },
  {
   "cell_type": "markdown",
   "metadata": {},
   "source": [
    "<div class=\"alert alert-success\">\n",
    "<h2> Комментарий ревьюера 2</h2>\n",
    "\n",
    "Скорее мы наблюдаем смену тенденций в игровой индустрии с течением времени.  \n",
    "\n",
    "</div>"
   ]
  },
  {
   "cell_type": "markdown",
   "metadata": {},
   "source": [
    "## Шаг 6. Общий вывод\n",
    "\n",
    "- Начиная с 1990 года и вплоть до 2009 года количество выпускаемых игр ежегодно росло, далее произошел резкий спад в 2008-2011 гг., количество игр уменьшилось почти в 2 раза.\n",
    "- С 2012 г. количество выпускаемых игр стабилизировалось и остается примерно на одном и том же уровне\n",
    "- Среднее время жизни игровой платформы около 6 лет\n",
    "- Стандартное отклонение жизни платформы ~4 года, т.е. продолжительность варьируется от 2 до 10 лет\n",
    "- Наиболее актуальными игровыми платформами на данный момент являются X360, XOne, PS4, а так же Wii, PS3, WiiU, 3DS\n",
    "- По продажам абсолютно все платформы имеют спад на 4-й \\ 5-й год\n",
    "- Оценки критиков и оценки пользователей не оказывают большого влияния на продажи игр\n",
    "- Тем не менее оценки критиков оказывают большее влияние на продажи и выручку от продажи игр нежели оценки пользователей\n",
    "- Наиболее популярными (за всё время) жанрами игр являются Action, Sport и Miscellaneous (игры \"смешанного\" жанра)\n",
    "- Самыми непопулярными жанрами игр являются Strategy и Puzzle\n",
    "- Самыми прибыльными являются жанры Action, Sport и Shooter\n",
    "- На разных континентах разный менталитет -> игровые предпочтения пользователей могут как полностью совпадать, так и координально отличаться\n",
    "\n",
    "\n",
    "Прогноз на 2017 год:\n",
    "\n",
    "Продажи будут падать на всех платформах, поэтому наиболее оптимальным решением будет выпуск новой платформы, в зависимости от того, какая страна-производитель её выпустит (и на какую целевую аудиторию эта платформа будет опираться) следует планировать выпуск эксклюзивов по определенным жанрам (например для Европы и Северной Америки это шутеры) дабы привлечь аудиторию.\n"
   ]
  },
  {
   "cell_type": "markdown",
   "metadata": {},
   "source": [
    "<div class=\"alert alert-success\">\n",
    "<h2> Комментарий ревьюера </h2>\n",
    "\n",
    "Выводы описаны грамотно. Приведены ответы на главные вопросы проекта. В выводах можно приводить полученные ранее значения. Также можно расписать все, что было сделано в ходе проведения работы. Здорово, что ты привел рекомендации для компании по дальнейшим действиям. Именно их от нас и ждут. \n",
    "\n",
    "</div>"
   ]
  },
  {
   "cell_type": "markdown",
   "metadata": {},
   "source": [
    "<div class=\"alert alert-warning\">\n",
    "<h2> Комментарий ревьюера </h2>\n",
    "\n",
    "Если тебе нравится тема визуализации, то можешь изучить методы библиотеки seaborn. Она позволяет строить довольно презентабельные графики.\n",
    "\n",
    "Ты выполнил все пункты работы, молодец! Критических замечаний немного. Однако с ними важно поработать. Также есть достаточное число желтых комментариев, которые стоит исправить. Думаю, ты справишься с этим быстро. Жду твою работу :)\n",
    "\n",
    "</div>"
   ]
  },
  {
   "cell_type": "markdown",
   "metadata": {},
   "source": [
    "<div class=\"alert alert-success\">\n",
    "<h2> Комментарий ревьюера 2</h2>\n",
    "\n",
    "Работа стала лучше, молодец. Однако осталась еще пара моментов, с которыми стоит поработать. Как исправишь их, присылай работу снова :)\n",
    "\n",
    "</div>"
   ]
  },
  {
   "cell_type": "markdown",
   "metadata": {},
   "source": [
    "<div class=\"alert alert-success\">\n",
    "<h2> Комментарий ревьюера 3</h2>\n",
    "\n",
    "Помарки исправлены, и теперь работа выполнена хорошо. У тебя получился очень крутой проект, молодец. На число итераций можно не смотреть, это не показатель хорошей работы) Поздравляю со сданным проектом. Надеюсь, он был интересен и познавателен. Спасибо за подробные комментарии по исправлениям. Успехов в дальнейшем пути :)\n",
    "\n",
    "</div>"
   ]
  }
 ],
 "metadata": {
  "kernelspec": {
   "display_name": "Python 3",
   "language": "python",
   "name": "python3"
  },
  "language_info": {
   "codemirror_mode": {
    "name": "ipython",
    "version": 3
   },
   "file_extension": ".py",
   "mimetype": "text/x-python",
   "name": "python",
   "nbconvert_exporter": "python",
   "pygments_lexer": "ipython3",
   "version": "3.7.6"
  }
 },
 "nbformat": 4,
 "nbformat_minor": 2
}
